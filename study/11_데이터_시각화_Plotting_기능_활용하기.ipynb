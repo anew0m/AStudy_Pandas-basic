{
  "nbformat": 4,
  "nbformat_minor": 0,
  "metadata": {
    "colab": {
      "name": "11_데이터 시각화 Plotting 기능 활용하기.ipynb",
      "provenance": [],
      "authorship_tag": "ABX9TyNVO+jI6wWSH4N7V+h3qZ+p",
      "include_colab_link": true
    },
    "kernelspec": {
      "name": "python3",
      "display_name": "Python 3"
    }
  },
  "cells": [
    {
      "cell_type": "markdown",
      "metadata": {
        "id": "view-in-github",
        "colab_type": "text"
      },
      "source": [
        "<a href=\"https://colab.research.google.com/github/anew0m/AStudy_Pandas-basic/blob/main/study/11_%EB%8D%B0%EC%9D%B4%ED%84%B0_%EC%8B%9C%EA%B0%81%ED%99%94_Plotting_%EA%B8%B0%EB%8A%A5_%ED%99%9C%EC%9A%A9%ED%95%98%EA%B8%B0.ipynb\" target=\"_parent\"><img src=\"https://colab.research.google.com/assets/colab-badge.svg\" alt=\"Open In Colab\"/></a>"
      ]
    },
    {
      "cell_type": "markdown",
      "metadata": {
        "id": "ADSC0eM5eA5Z"
      },
      "source": [
        "# 11_데이터 시각화 Plotting 기능 활용하기"
      ]
    },
    {
      "cell_type": "markdown",
      "metadata": {
        "id": "n63iiNdueD9A"
      },
      "source": [
        "## 17) 파이썬 판다스로 Series 와 DataFrame 데이터 시각화 하기 소개\n",
        "* https://pandas.pydata.org/pandas-docs/stable/user_guide/visualization.html"
      ]
    },
    {
      "cell_type": "markdown",
      "metadata": {
        "id": "YUpOO7oWeLrV"
      },
      "source": [
        "## Plotting"
      ]
    },
    {
      "cell_type": "markdown",
      "metadata": {
        "id": "Ds68wUtVfGFI"
      },
      "source": [
        "## kind : str\n",
        "    The kind of plot to produce:\n",
        "\n",
        "    - 'line' : line plot (default)\n",
        "    - 'bar' : vertical bar plot\n",
        "    - 'barh' : horizontal bar plot\n",
        "    - 'hist' : histogram\n",
        "    - 'box' : boxplot\n",
        "    - 'kde' : Kernel Density Estimation plot\n",
        "    - 'density' : same as 'kde'\n",
        "    - 'area' : area plot\n",
        "    - 'pie' : pie plot\n",
        "    - 'scatter' : scatter plot\n",
        "    - 'hexbin' : hexbin plot."
      ]
    },
    {
      "cell_type": "code",
      "metadata": {
        "id": "maYP95obeVy0"
      },
      "source": [
        "import pandas as pd\n",
        "import numpy as np"
      ],
      "execution_count": null,
      "outputs": []
    },
    {
      "cell_type": "code",
      "metadata": {
        "id": "EuDXHtB9ea8O"
      },
      "source": [
        "import matplotlib  as mpl\n",
        "import matplotlib.pyplot as plt\n",
        "%matplotlib inline\n",
        "\n",
        "# 한글폰트 사용시 그래프에서 마이너스 폰트 깨지는 문제에 대한 대처\n",
        "mpl.rcParams['axes.unicode_minus'] = False"
      ],
      "execution_count": null,
      "outputs": []
    },
    {
      "cell_type": "code",
      "metadata": {
        "id": "lwZUsaTmennr"
      },
      "source": [
        " df = pd.DataFrame([])"
      ],
      "execution_count": null,
      "outputs": []
    },
    {
      "cell_type": "code",
      "metadata": {
        "id": "ueh9vEW-fE3m"
      },
      "source": [
        "df.plot?"
      ],
      "execution_count": null,
      "outputs": []
    },
    {
      "cell_type": "code",
      "metadata": {
        "id": "YUitZ8NNfNYf",
        "outputId": "60f87e1e-0e25-46c2-f43f-4bb7ca91524d",
        "colab": {
          "base_uri": "https://localhost:8080/",
          "height": 235
        }
      },
      "source": [
        "ts = pd.Series(np.random.randn(1000), index=pd.date_range('1/1/2015', periods=1000))\n",
        "ts"
      ],
      "execution_count": null,
      "outputs": [
        {
          "output_type": "execute_result",
          "data": {
            "text/plain": [
              "2015-01-01    1.645149\n",
              "2015-01-02    0.590386\n",
              "2015-01-03   -0.238210\n",
              "2015-01-04    1.099456\n",
              "2015-01-05   -1.572288\n",
              "                ...   \n",
              "2017-09-22    0.743629\n",
              "2017-09-23   -0.629591\n",
              "2017-09-24    0.717794\n",
              "2017-09-25   -0.465090\n",
              "2017-09-26    1.171762\n",
              "Freq: D, Length: 1000, dtype: float64"
            ]
          },
          "metadata": {
            "tags": []
          },
          "execution_count": 5
        }
      ]
    },
    {
      "cell_type": "code",
      "metadata": {
        "id": "CHdpgCsNf1mQ",
        "outputId": "0ebbe7d0-3d1b-4839-d271-ba8c33e1844d",
        "colab": {
          "base_uri": "https://localhost:8080/",
          "height": 295
        }
      },
      "source": [
        "ts.plot()"
      ],
      "execution_count": null,
      "outputs": [
        {
          "output_type": "execute_result",
          "data": {
            "text/plain": [
              "<matplotlib.axes._subplots.AxesSubplot at 0x7fe0af540eb8>"
            ]
          },
          "metadata": {
            "tags": []
          },
          "execution_count": 6
        },
        {
          "output_type": "display_data",
          "data": {
            "image/png": "[encoded data removed]",
            "text/plain": [
              "<Figure size 432x288 with 1 Axes>"
            ]
          },
          "metadata": {
            "tags": [],
            "needs_background": "light"
          }
        }
      ]
    },
    {
      "cell_type": "code",
      "metadata": {
        "id": "_Lkh6bOzf9zO"
      },
      "source": [
        "ts = ts.cumsum()"
      ],
      "execution_count": null,
      "outputs": []
    },
    {
      "cell_type": "code",
      "metadata": {
        "id": "lv9s_RjAgDFt",
        "outputId": "187ece2f-3cbb-40f9-d1da-2278cd2aa283",
        "colab": {
          "base_uri": "https://localhost:8080/",
          "height": 295
        }
      },
      "source": [
        "ts.plot()"
      ],
      "execution_count": null,
      "outputs": [
        {
          "output_type": "execute_result",
          "data": {
            "text/plain": [
              "<matplotlib.axes._subplots.AxesSubplot at 0x7fe0ae0fae48>"
            ]
          },
          "metadata": {
            "tags": []
          },
          "execution_count": 8
        },
        {
          "output_type": "display_data",
          "data": {
            "image/png": "[encoded data removed]",
            "text/plain": [
              "<Figure size 432x288 with 1 Axes>"
            ]
          },
          "metadata": {
            "tags": [],
            "needs_background": "light"
          }
        }
      ]
    },
    {
      "cell_type": "code",
      "metadata": {
        "id": "A_1LoT6pgFi6",
        "outputId": "d337fce8-5e9e-416f-e157-7541913435d8",
        "colab": {
          "base_uri": "https://localhost:8080/",
          "height": 407
        }
      },
      "source": [
        "df = pd.DataFrame(np.random.randn(1000, 4), index=ts.index, columns=list('ABCD'))\n",
        "df"
      ],
      "execution_count": null,
      "outputs": [
        {
          "output_type": "execute_result",
          "data": {
            "text/html": [
              "<div>\n",
              "<style scoped>\n",
              "    .dataframe tbody tr th:only-of-type {\n",
              "        vertical-align: middle;\n",
              "    }\n",
              "\n",
              "    .dataframe tbody tr th {\n",
              "        vertical-align: top;\n",
              "    }\n",
              "\n",
              "    .dataframe thead th {\n",
              "        text-align: right;\n",
              "    }\n",
              "</style>\n",
              "<table border=\"1\" class=\"dataframe\">\n",
              "  <thead>\n",
              "    <tr style=\"text-align: right;\">\n",
              "      <th></th>\n",
              "      <th>A</th>\n",
              "      <th>B</th>\n",
              "      <th>C</th>\n",
              "      <th>D</th>\n",
              "    </tr>\n",
              "  </thead>\n",
              "  <tbody>\n",
              "    <tr>\n",
              "      <th>2015-01-01</th>\n",
              "      <td>-0.911883</td>\n",
              "      <td>0.540080</td>\n",
              "      <td>-0.367712</td>\n",
              "      <td>1.610785</td>\n",
              "    </tr>\n",
              "    <tr>\n",
              "      <th>2015-01-02</th>\n",
              "      <td>-1.430076</td>\n",
              "      <td>-0.222773</td>\n",
              "      <td>1.566343</td>\n",
              "      <td>0.512098</td>\n",
              "    </tr>\n",
              "    <tr>\n",
              "      <th>2015-01-03</th>\n",
              "      <td>1.010824</td>\n",
              "      <td>0.243347</td>\n",
              "      <td>-0.876173</td>\n",
              "      <td>0.132303</td>\n",
              "    </tr>\n",
              "    <tr>\n",
              "      <th>2015-01-04</th>\n",
              "      <td>-1.776761</td>\n",
              "      <td>0.532408</td>\n",
              "      <td>-0.931607</td>\n",
              "      <td>-0.786165</td>\n",
              "    </tr>\n",
              "    <tr>\n",
              "      <th>2015-01-05</th>\n",
              "      <td>-0.614145</td>\n",
              "      <td>-0.669546</td>\n",
              "      <td>0.658118</td>\n",
              "      <td>-1.033512</td>\n",
              "    </tr>\n",
              "    <tr>\n",
              "      <th>...</th>\n",
              "      <td>...</td>\n",
              "      <td>...</td>\n",
              "      <td>...</td>\n",
              "      <td>...</td>\n",
              "    </tr>\n",
              "    <tr>\n",
              "      <th>2017-09-22</th>\n",
              "      <td>1.156209</td>\n",
              "      <td>-0.777897</td>\n",
              "      <td>-1.123599</td>\n",
              "      <td>1.871516</td>\n",
              "    </tr>\n",
              "    <tr>\n",
              "      <th>2017-09-23</th>\n",
              "      <td>-0.661142</td>\n",
              "      <td>1.311203</td>\n",
              "      <td>-0.647627</td>\n",
              "      <td>0.362428</td>\n",
              "    </tr>\n",
              "    <tr>\n",
              "      <th>2017-09-24</th>\n",
              "      <td>-1.147817</td>\n",
              "      <td>-0.284007</td>\n",
              "      <td>-1.113510</td>\n",
              "      <td>-0.655999</td>\n",
              "    </tr>\n",
              "    <tr>\n",
              "      <th>2017-09-25</th>\n",
              "      <td>0.936811</td>\n",
              "      <td>-0.344004</td>\n",
              "      <td>-2.024740</td>\n",
              "      <td>-0.034499</td>\n",
              "    </tr>\n",
              "    <tr>\n",
              "      <th>2017-09-26</th>\n",
              "      <td>0.865366</td>\n",
              "      <td>-0.109081</td>\n",
              "      <td>0.797396</td>\n",
              "      <td>0.169532</td>\n",
              "    </tr>\n",
              "  </tbody>\n",
              "</table>\n",
              "<p>1000 rows × 4 columns</p>\n",
              "</div>"
            ],
            "text/plain": [
              "                   A         B         C         D\n",
              "2015-01-01 -0.911883  0.540080 -0.367712  1.610785\n",
              "2015-01-02 -1.430076 -0.222773  1.566343  0.512098\n",
              "2015-01-03  1.010824  0.243347 -0.876173  0.132303\n",
              "2015-01-04 -1.776761  0.532408 -0.931607 -0.786165\n",
              "2015-01-05 -0.614145 -0.669546  0.658118 -1.033512\n",
              "...              ...       ...       ...       ...\n",
              "2017-09-22  1.156209 -0.777897 -1.123599  1.871516\n",
              "2017-09-23 -0.661142  1.311203 -0.647627  0.362428\n",
              "2017-09-24 -1.147817 -0.284007 -1.113510 -0.655999\n",
              "2017-09-25  0.936811 -0.344004 -2.024740 -0.034499\n",
              "2017-09-26  0.865366 -0.109081  0.797396  0.169532\n",
              "\n",
              "[1000 rows x 4 columns]"
            ]
          },
          "metadata": {
            "tags": []
          },
          "execution_count": 9
        }
      ]
    },
    {
      "cell_type": "code",
      "metadata": {
        "id": "PwGUruftgMMK",
        "outputId": "91ffbeaf-3553-44d4-90e5-89ec0b6ec107",
        "colab": {
          "base_uri": "https://localhost:8080/",
          "height": 298
        }
      },
      "source": [
        "df.plot()"
      ],
      "execution_count": null,
      "outputs": [
        {
          "output_type": "execute_result",
          "data": {
            "text/plain": [
              "<matplotlib.axes._subplots.AxesSubplot at 0x7fe0adb7ba58>"
            ]
          },
          "metadata": {
            "tags": []
          },
          "execution_count": 10
        },
        {
          "output_type": "display_data",
          "data": {
            "image/png": "[encoded data removed]",
            "text/plain": [
              "<Figure size 432x288 with 1 Axes>"
            ]
          },
          "metadata": {
            "tags": [],
            "needs_background": "light"
          }
        }
      ]
    },
    {
      "cell_type": "code",
      "metadata": {
        "id": "_lppD8JHgPc8"
      },
      "source": [
        "df = df.cumsum()"
      ],
      "execution_count": null,
      "outputs": []
    },
    {
      "cell_type": "code",
      "metadata": {
        "id": "QJjvB7UPgVz9",
        "outputId": "379f133b-c0e5-4b32-ae2c-6fa239fd7e0d",
        "colab": {
          "base_uri": "https://localhost:8080/",
          "height": 295
        }
      },
      "source": [
        "df.plot()"
      ],
      "execution_count": null,
      "outputs": [
        {
          "output_type": "execute_result",
          "data": {
            "text/plain": [
              "<matplotlib.axes._subplots.AxesSubplot at 0x7fe0ada52f60>"
            ]
          },
          "metadata": {
            "tags": []
          },
          "execution_count": 12
        },
        {
          "output_type": "display_data",
          "data": {
            "image/png": "[encoded data removed]",
            "text/plain": [
              "<Figure size 432x288 with 1 Axes>"
            ]
          },
          "metadata": {
            "tags": [],
            "needs_background": "light"
          }
        }
      ]
    },
    {
      "cell_type": "code",
      "metadata": {
        "id": "Cq1gS5ZlgXJI",
        "outputId": "32ed2e56-55b4-45f3-beff-187034e1cc31",
        "colab": {
          "base_uri": "https://localhost:8080/",
          "height": 407
        }
      },
      "source": [
        "df3 = pd.DataFrame(np.random.randn(1000, 2), columns=['B', 'C']).cumsum()\n",
        "df3"
      ],
      "execution_count": null,
      "outputs": [
        {
          "output_type": "execute_result",
          "data": {
            "text/html": [
              "<div>\n",
              "<style scoped>\n",
              "    .dataframe tbody tr th:only-of-type {\n",
              "        vertical-align: middle;\n",
              "    }\n",
              "\n",
              "    .dataframe tbody tr th {\n",
              "        vertical-align: top;\n",
              "    }\n",
              "\n",
              "    .dataframe thead th {\n",
              "        text-align: right;\n",
              "    }\n",
              "</style>\n",
              "<table border=\"1\" class=\"dataframe\">\n",
              "  <thead>\n",
              "    <tr style=\"text-align: right;\">\n",
              "      <th></th>\n",
              "      <th>B</th>\n",
              "      <th>C</th>\n",
              "    </tr>\n",
              "  </thead>\n",
              "  <tbody>\n",
              "    <tr>\n",
              "      <th>0</th>\n",
              "      <td>0.481791</td>\n",
              "      <td>-0.576379</td>\n",
              "    </tr>\n",
              "    <tr>\n",
              "      <th>1</th>\n",
              "      <td>1.810038</td>\n",
              "      <td>-1.182160</td>\n",
              "    </tr>\n",
              "    <tr>\n",
              "      <th>2</th>\n",
              "      <td>1.114537</td>\n",
              "      <td>-1.963916</td>\n",
              "    </tr>\n",
              "    <tr>\n",
              "      <th>3</th>\n",
              "      <td>2.215398</td>\n",
              "      <td>-1.590020</td>\n",
              "    </tr>\n",
              "    <tr>\n",
              "      <th>4</th>\n",
              "      <td>2.193528</td>\n",
              "      <td>-1.088463</td>\n",
              "    </tr>\n",
              "    <tr>\n",
              "      <th>...</th>\n",
              "      <td>...</td>\n",
              "      <td>...</td>\n",
              "    </tr>\n",
              "    <tr>\n",
              "      <th>995</th>\n",
              "      <td>22.750795</td>\n",
              "      <td>16.122512</td>\n",
              "    </tr>\n",
              "    <tr>\n",
              "      <th>996</th>\n",
              "      <td>21.858398</td>\n",
              "      <td>15.481182</td>\n",
              "    </tr>\n",
              "    <tr>\n",
              "      <th>997</th>\n",
              "      <td>21.089871</td>\n",
              "      <td>14.129423</td>\n",
              "    </tr>\n",
              "    <tr>\n",
              "      <th>998</th>\n",
              "      <td>22.039659</td>\n",
              "      <td>14.763130</td>\n",
              "    </tr>\n",
              "    <tr>\n",
              "      <th>999</th>\n",
              "      <td>21.295027</td>\n",
              "      <td>15.259304</td>\n",
              "    </tr>\n",
              "  </tbody>\n",
              "</table>\n",
              "<p>1000 rows × 2 columns</p>\n",
              "</div>"
            ],
            "text/plain": [
              "             B          C\n",
              "0     0.481791  -0.576379\n",
              "1     1.810038  -1.182160\n",
              "2     1.114537  -1.963916\n",
              "3     2.215398  -1.590020\n",
              "4     2.193528  -1.088463\n",
              "..         ...        ...\n",
              "995  22.750795  16.122512\n",
              "996  21.858398  15.481182\n",
              "997  21.089871  14.129423\n",
              "998  22.039659  14.763130\n",
              "999  21.295027  15.259304\n",
              "\n",
              "[1000 rows x 2 columns]"
            ]
          },
          "metadata": {
            "tags": []
          },
          "execution_count": 13
        }
      ]
    },
    {
      "cell_type": "code",
      "metadata": {
        "id": "iOQX2o_vgpnk",
        "outputId": "2e5e1cca-efaa-470c-d01c-fdb24ee629ca",
        "colab": {
          "base_uri": "https://localhost:8080/",
          "height": 407
        }
      },
      "source": [
        "df3['A'] = pd.Series(list(range(len(df))))\n",
        "df3"
      ],
      "execution_count": null,
      "outputs": [
        {
          "output_type": "execute_result",
          "data": {
            "text/html": [
              "<div>\n",
              "<style scoped>\n",
              "    .dataframe tbody tr th:only-of-type {\n",
              "        vertical-align: middle;\n",
              "    }\n",
              "\n",
              "    .dataframe tbody tr th {\n",
              "        vertical-align: top;\n",
              "    }\n",
              "\n",
              "    .dataframe thead th {\n",
              "        text-align: right;\n",
              "    }\n",
              "</style>\n",
              "<table border=\"1\" class=\"dataframe\">\n",
              "  <thead>\n",
              "    <tr style=\"text-align: right;\">\n",
              "      <th></th>\n",
              "      <th>B</th>\n",
              "      <th>C</th>\n",
              "      <th>A</th>\n",
              "    </tr>\n",
              "  </thead>\n",
              "  <tbody>\n",
              "    <tr>\n",
              "      <th>0</th>\n",
              "      <td>0.481791</td>\n",
              "      <td>-0.576379</td>\n",
              "      <td>0</td>\n",
              "    </tr>\n",
              "    <tr>\n",
              "      <th>1</th>\n",
              "      <td>1.810038</td>\n",
              "      <td>-1.182160</td>\n",
              "      <td>1</td>\n",
              "    </tr>\n",
              "    <tr>\n",
              "      <th>2</th>\n",
              "      <td>1.114537</td>\n",
              "      <td>-1.963916</td>\n",
              "      <td>2</td>\n",
              "    </tr>\n",
              "    <tr>\n",
              "      <th>3</th>\n",
              "      <td>2.215398</td>\n",
              "      <td>-1.590020</td>\n",
              "      <td>3</td>\n",
              "    </tr>\n",
              "    <tr>\n",
              "      <th>4</th>\n",
              "      <td>2.193528</td>\n",
              "      <td>-1.088463</td>\n",
              "      <td>4</td>\n",
              "    </tr>\n",
              "    <tr>\n",
              "      <th>...</th>\n",
              "      <td>...</td>\n",
              "      <td>...</td>\n",
              "      <td>...</td>\n",
              "    </tr>\n",
              "    <tr>\n",
              "      <th>995</th>\n",
              "      <td>22.750795</td>\n",
              "      <td>16.122512</td>\n",
              "      <td>995</td>\n",
              "    </tr>\n",
              "    <tr>\n",
              "      <th>996</th>\n",
              "      <td>21.858398</td>\n",
              "      <td>15.481182</td>\n",
              "      <td>996</td>\n",
              "    </tr>\n",
              "    <tr>\n",
              "      <th>997</th>\n",
              "      <td>21.089871</td>\n",
              "      <td>14.129423</td>\n",
              "      <td>997</td>\n",
              "    </tr>\n",
              "    <tr>\n",
              "      <th>998</th>\n",
              "      <td>22.039659</td>\n",
              "      <td>14.763130</td>\n",
              "      <td>998</td>\n",
              "    </tr>\n",
              "    <tr>\n",
              "      <th>999</th>\n",
              "      <td>21.295027</td>\n",
              "      <td>15.259304</td>\n",
              "      <td>999</td>\n",
              "    </tr>\n",
              "  </tbody>\n",
              "</table>\n",
              "<p>1000 rows × 3 columns</p>\n",
              "</div>"
            ],
            "text/plain": [
              "             B          C    A\n",
              "0     0.481791  -0.576379    0\n",
              "1     1.810038  -1.182160    1\n",
              "2     1.114537  -1.963916    2\n",
              "3     2.215398  -1.590020    3\n",
              "4     2.193528  -1.088463    4\n",
              "..         ...        ...  ...\n",
              "995  22.750795  16.122512  995\n",
              "996  21.858398  15.481182  996\n",
              "997  21.089871  14.129423  997\n",
              "998  22.039659  14.763130  998\n",
              "999  21.295027  15.259304  999\n",
              "\n",
              "[1000 rows x 3 columns]"
            ]
          },
          "metadata": {
            "tags": []
          },
          "execution_count": 14
        }
      ]
    },
    {
      "cell_type": "code",
      "metadata": {
        "id": "CAVYaHuCgxaN",
        "outputId": "cb3ea94f-147e-4661-f254-d3a84415bd7b",
        "colab": {
          "base_uri": "https://localhost:8080/",
          "height": 297
        }
      },
      "source": [
        "df3.plot(x = 'A', y = 'B')"
      ],
      "execution_count": null,
      "outputs": [
        {
          "output_type": "execute_result",
          "data": {
            "text/plain": [
              "<matplotlib.axes._subplots.AxesSubplot at 0x7fe0ad966390>"
            ]
          },
          "metadata": {
            "tags": []
          },
          "execution_count": 15
        },
        {
          "output_type": "display_data",
          "data": {
            "image/png": "[encoded data removed]",
            "text/plain": [
              "<Figure size 432x288 with 1 Axes>"
            ]
          },
          "metadata": {
            "tags": [],
            "needs_background": "light"
          }
        }
      ]
    },
    {
      "cell_type": "markdown",
      "metadata": {
        "id": "eWxJ7jXgg7sD"
      },
      "source": [
        "## 18) 파이썬 데이터 시각화 판다스로 bar plot 막대그래프 그리기"
      ]
    },
    {
      "cell_type": "markdown",
      "metadata": {
        "id": "g3wvcd9ghMtJ"
      },
      "source": [
        "### bar plot"
      ]
    },
    {
      "cell_type": "code",
      "metadata": {
        "id": "G4DsSKbVkr4s"
      },
      "source": [
        "import pandas as pd\n",
        "import numpy as np\n",
        "import matplotlib.pyplot as plt\n",
        "\n",
        "%matplotlib inline\n",
        "\n",
        "# 한글폰트 사용시 그래프에서 마이너스 폰트 깨지는 문제에 대한 대처\n",
        "mpl.rcParams['axes.unicode_minus'] = False"
      ],
      "execution_count": null,
      "outputs": []
    },
    {
      "cell_type": "code",
      "metadata": {
        "id": "3cfOyD7ckwoq",
        "outputId": "efe45a6e-952b-424b-cc01-37cabd26696e",
        "colab": {
          "base_uri": "https://localhost:8080/",
          "height": 235
        }
      },
      "source": [
        "ts = pd.Series(np.random.randn(1000), \n",
        "               index = pd.date_range('1/1/2015', periods = 1000))\n",
        "ts"
      ],
      "execution_count": null,
      "outputs": [
        {
          "output_type": "execute_result",
          "data": {
            "text/plain": [
              "2015-01-01   -0.729437\n",
              "2015-01-02   -1.260098\n",
              "2015-01-03    0.428086\n",
              "2015-01-04   -0.005891\n",
              "2015-01-05    3.079019\n",
              "                ...   \n",
              "2017-09-22    1.628081\n",
              "2017-09-23    0.213871\n",
              "2017-09-24    0.993307\n",
              "2017-09-25   -0.605462\n",
              "2017-09-26    0.671407\n",
              "Freq: D, Length: 1000, dtype: float64"
            ]
          },
          "metadata": {
            "tags": []
          },
          "execution_count": 17
        }
      ]
    },
    {
      "cell_type": "code",
      "metadata": {
        "id": "vRijl_b3k5Ij",
        "outputId": "d149a92f-851f-46db-898b-0138bcb6ce82",
        "colab": {
          "base_uri": "https://localhost:8080/",
          "height": 407
        }
      },
      "source": [
        "df = pd.DataFrame(np.random.randn(1000, 4), \n",
        "                  index = ts.index, columns = list('ABCD'))\n",
        "df"
      ],
      "execution_count": null,
      "outputs": [
        {
          "output_type": "execute_result",
          "data": {
            "text/html": [
              "<div>\n",
              "<style scoped>\n",
              "    .dataframe tbody tr th:only-of-type {\n",
              "        vertical-align: middle;\n",
              "    }\n",
              "\n",
              "    .dataframe tbody tr th {\n",
              "        vertical-align: top;\n",
              "    }\n",
              "\n",
              "    .dataframe thead th {\n",
              "        text-align: right;\n",
              "    }\n",
              "</style>\n",
              "<table border=\"1\" class=\"dataframe\">\n",
              "  <thead>\n",
              "    <tr style=\"text-align: right;\">\n",
              "      <th></th>\n",
              "      <th>A</th>\n",
              "      <th>B</th>\n",
              "      <th>C</th>\n",
              "      <th>D</th>\n",
              "    </tr>\n",
              "  </thead>\n",
              "  <tbody>\n",
              "    <tr>\n",
              "      <th>2015-01-01</th>\n",
              "      <td>0.911125</td>\n",
              "      <td>1.157809</td>\n",
              "      <td>-0.377562</td>\n",
              "      <td>-1.303585</td>\n",
              "    </tr>\n",
              "    <tr>\n",
              "      <th>2015-01-02</th>\n",
              "      <td>0.384301</td>\n",
              "      <td>-0.756770</td>\n",
              "      <td>0.580269</td>\n",
              "      <td>-1.430071</td>\n",
              "    </tr>\n",
              "    <tr>\n",
              "      <th>2015-01-03</th>\n",
              "      <td>-0.928578</td>\n",
              "      <td>1.544540</td>\n",
              "      <td>0.418070</td>\n",
              "      <td>-0.182491</td>\n",
              "    </tr>\n",
              "    <tr>\n",
              "      <th>2015-01-04</th>\n",
              "      <td>-0.016907</td>\n",
              "      <td>-0.131005</td>\n",
              "      <td>1.417793</td>\n",
              "      <td>0.377044</td>\n",
              "    </tr>\n",
              "    <tr>\n",
              "      <th>2015-01-05</th>\n",
              "      <td>-0.462028</td>\n",
              "      <td>1.375188</td>\n",
              "      <td>-0.179286</td>\n",
              "      <td>1.417694</td>\n",
              "    </tr>\n",
              "    <tr>\n",
              "      <th>...</th>\n",
              "      <td>...</td>\n",
              "      <td>...</td>\n",
              "      <td>...</td>\n",
              "      <td>...</td>\n",
              "    </tr>\n",
              "    <tr>\n",
              "      <th>2017-09-22</th>\n",
              "      <td>-1.567197</td>\n",
              "      <td>1.108329</td>\n",
              "      <td>-0.727364</td>\n",
              "      <td>0.237704</td>\n",
              "    </tr>\n",
              "    <tr>\n",
              "      <th>2017-09-23</th>\n",
              "      <td>1.473525</td>\n",
              "      <td>-1.146194</td>\n",
              "      <td>-0.895740</td>\n",
              "      <td>0.701504</td>\n",
              "    </tr>\n",
              "    <tr>\n",
              "      <th>2017-09-24</th>\n",
              "      <td>-0.407043</td>\n",
              "      <td>-2.010191</td>\n",
              "      <td>0.395254</td>\n",
              "      <td>-0.314805</td>\n",
              "    </tr>\n",
              "    <tr>\n",
              "      <th>2017-09-25</th>\n",
              "      <td>-1.329793</td>\n",
              "      <td>0.382947</td>\n",
              "      <td>0.004617</td>\n",
              "      <td>-1.846486</td>\n",
              "    </tr>\n",
              "    <tr>\n",
              "      <th>2017-09-26</th>\n",
              "      <td>-1.506079</td>\n",
              "      <td>0.314724</td>\n",
              "      <td>1.879391</td>\n",
              "      <td>-0.560742</td>\n",
              "    </tr>\n",
              "  </tbody>\n",
              "</table>\n",
              "<p>1000 rows × 4 columns</p>\n",
              "</div>"
            ],
            "text/plain": [
              "                   A         B         C         D\n",
              "2015-01-01  0.911125  1.157809 -0.377562 -1.303585\n",
              "2015-01-02  0.384301 -0.756770  0.580269 -1.430071\n",
              "2015-01-03 -0.928578  1.544540  0.418070 -0.182491\n",
              "2015-01-04 -0.016907 -0.131005  1.417793  0.377044\n",
              "2015-01-05 -0.462028  1.375188 -0.179286  1.417694\n",
              "...              ...       ...       ...       ...\n",
              "2017-09-22 -1.567197  1.108329 -0.727364  0.237704\n",
              "2017-09-23  1.473525 -1.146194 -0.895740  0.701504\n",
              "2017-09-24 -0.407043 -2.010191  0.395254 -0.314805\n",
              "2017-09-25 -1.329793  0.382947  0.004617 -1.846486\n",
              "2017-09-26 -1.506079  0.314724  1.879391 -0.560742\n",
              "\n",
              "[1000 rows x 4 columns]"
            ]
          },
          "metadata": {
            "tags": []
          },
          "execution_count": 18
        }
      ]
    },
    {
      "cell_type": "code",
      "metadata": {
        "id": "0-xvB1fklT8w",
        "outputId": "0a401b90-869f-47f3-84af-e8e2b12c1889",
        "colab": {
          "base_uri": "https://localhost:8080/",
          "height": 108
        }
      },
      "source": [
        "df.iloc[5]"
      ],
      "execution_count": null,
      "outputs": [
        {
          "output_type": "execute_result",
          "data": {
            "text/plain": [
              "A    0.077841\n",
              "B    0.175090\n",
              "C   -0.862358\n",
              "D    0.079624\n",
              "Name: 2015-01-06 00:00:00, dtype: float64"
            ]
          },
          "metadata": {
            "tags": []
          },
          "execution_count": 20
        }
      ]
    },
    {
      "cell_type": "code",
      "metadata": {
        "id": "vW5EyZQhlEBq",
        "outputId": "e63a54cc-1dde-43df-b5f7-aa533867ba41",
        "colab": {
          "base_uri": "https://localhost:8080/",
          "height": 281
        }
      },
      "source": [
        "df.iloc[5].plot(kind = 'bar')"
      ],
      "execution_count": null,
      "outputs": [
        {
          "output_type": "execute_result",
          "data": {
            "text/plain": [
              "<matplotlib.axes._subplots.AxesSubplot at 0x7fe0a397ceb8>"
            ]
          },
          "metadata": {
            "tags": []
          },
          "execution_count": 22
        },
        {
          "output_type": "display_data",
          "data": {
            "image/png": "[encoded data removed]",
            "text/plain": [
              "<Figure size 432x288 with 1 Axes>"
            ]
          },
          "metadata": {
            "tags": [],
            "needs_background": "light"
          }
        }
      ]
    },
    {
      "cell_type": "code",
      "metadata": {
        "id": "z0V6YjqglSAb",
        "outputId": "f397759d-117d-4a9a-9ee9-98492c8e2c31",
        "colab": {
          "base_uri": "https://localhost:8080/",
          "height": 281
        }
      },
      "source": [
        "df.iloc[5].plot.bar()\n",
        "plt.axhline(0, color = 'k')"
      ],
      "execution_count": null,
      "outputs": [
        {
          "output_type": "execute_result",
          "data": {
            "text/plain": [
              "<matplotlib.lines.Line2D at 0x7fe0a3787cc0>"
            ]
          },
          "metadata": {
            "tags": []
          },
          "execution_count": 29
        },
        {
          "output_type": "display_data",
          "data": {
            "image/png": "[encoded data removed]",
            "text/plain": [
              "<Figure size 432x288 with 1 Axes>"
            ]
          },
          "metadata": {
            "tags": [],
            "needs_background": "light"
          }
        }
      ]
    },
    {
      "cell_type": "code",
      "metadata": {
        "id": "1YyaDSHlljaS",
        "outputId": "01ed1cda-e936-459e-f3b9-a8b9a355ae51",
        "colab": {
          "base_uri": "https://localhost:8080/",
          "height": 281
        }
      },
      "source": [
        "df.iloc[5].plot.bar()\n",
        "plt.axhline(1, color = 'k')"
      ],
      "execution_count": null,
      "outputs": [
        {
          "output_type": "execute_result",
          "data": {
            "text/plain": [
              "<matplotlib.lines.Line2D at 0x7fe0a397cda0>"
            ]
          },
          "metadata": {
            "tags": []
          },
          "execution_count": 30
        },
        {
          "output_type": "display_data",
          "data": {
            "image/png": "[encoded data removed]",
            "text/plain": [
              "<Figure size 432x288 with 1 Axes>"
            ]
          },
          "metadata": {
            "tags": [],
            "needs_background": "light"
          }
        }
      ]
    },
    {
      "cell_type": "code",
      "metadata": {
        "id": "GqsWzaKpmOnc",
        "outputId": "20e267dc-f6a0-4cd6-b4fa-8a4391ad79f2",
        "colab": {
          "base_uri": "https://localhost:8080/",
          "height": 348
        }
      },
      "source": [
        "df2 = pd.DataFrame(np.random.rand(10, 4), columns=['a', 'b', 'c', 'd'])\n",
        "df2"
      ],
      "execution_count": null,
      "outputs": [
        {
          "output_type": "execute_result",
          "data": {
            "text/html": [
              "<div>\n",
              "<style scoped>\n",
              "    .dataframe tbody tr th:only-of-type {\n",
              "        vertical-align: middle;\n",
              "    }\n",
              "\n",
              "    .dataframe tbody tr th {\n",
              "        vertical-align: top;\n",
              "    }\n",
              "\n",
              "    .dataframe thead th {\n",
              "        text-align: right;\n",
              "    }\n",
              "</style>\n",
              "<table border=\"1\" class=\"dataframe\">\n",
              "  <thead>\n",
              "    <tr style=\"text-align: right;\">\n",
              "      <th></th>\n",
              "      <th>a</th>\n",
              "      <th>b</th>\n",
              "      <th>c</th>\n",
              "      <th>d</th>\n",
              "    </tr>\n",
              "  </thead>\n",
              "  <tbody>\n",
              "    <tr>\n",
              "      <th>0</th>\n",
              "      <td>0.465959</td>\n",
              "      <td>0.106341</td>\n",
              "      <td>0.432210</td>\n",
              "      <td>0.051570</td>\n",
              "    </tr>\n",
              "    <tr>\n",
              "      <th>1</th>\n",
              "      <td>0.273252</td>\n",
              "      <td>0.449271</td>\n",
              "      <td>0.040381</td>\n",
              "      <td>0.944165</td>\n",
              "    </tr>\n",
              "    <tr>\n",
              "      <th>2</th>\n",
              "      <td>0.638656</td>\n",
              "      <td>0.835081</td>\n",
              "      <td>0.393367</td>\n",
              "      <td>0.180972</td>\n",
              "    </tr>\n",
              "    <tr>\n",
              "      <th>3</th>\n",
              "      <td>0.143476</td>\n",
              "      <td>0.834213</td>\n",
              "      <td>0.253163</td>\n",
              "      <td>0.890626</td>\n",
              "    </tr>\n",
              "    <tr>\n",
              "      <th>4</th>\n",
              "      <td>0.510723</td>\n",
              "      <td>0.257276</td>\n",
              "      <td>0.744791</td>\n",
              "      <td>0.379255</td>\n",
              "    </tr>\n",
              "    <tr>\n",
              "      <th>5</th>\n",
              "      <td>0.828100</td>\n",
              "      <td>0.588253</td>\n",
              "      <td>0.374714</td>\n",
              "      <td>0.529560</td>\n",
              "    </tr>\n",
              "    <tr>\n",
              "      <th>6</th>\n",
              "      <td>0.574949</td>\n",
              "      <td>0.492633</td>\n",
              "      <td>0.918394</td>\n",
              "      <td>0.425824</td>\n",
              "    </tr>\n",
              "    <tr>\n",
              "      <th>7</th>\n",
              "      <td>0.131665</td>\n",
              "      <td>0.955722</td>\n",
              "      <td>0.096739</td>\n",
              "      <td>0.558908</td>\n",
              "    </tr>\n",
              "    <tr>\n",
              "      <th>8</th>\n",
              "      <td>0.909913</td>\n",
              "      <td>0.052139</td>\n",
              "      <td>0.762368</td>\n",
              "      <td>0.895639</td>\n",
              "    </tr>\n",
              "    <tr>\n",
              "      <th>9</th>\n",
              "      <td>0.812866</td>\n",
              "      <td>0.501103</td>\n",
              "      <td>0.732094</td>\n",
              "      <td>0.683104</td>\n",
              "    </tr>\n",
              "  </tbody>\n",
              "</table>\n",
              "</div>"
            ],
            "text/plain": [
              "          a         b         c         d\n",
              "0  0.465959  0.106341  0.432210  0.051570\n",
              "1  0.273252  0.449271  0.040381  0.944165\n",
              "2  0.638656  0.835081  0.393367  0.180972\n",
              "3  0.143476  0.834213  0.253163  0.890626\n",
              "4  0.510723  0.257276  0.744791  0.379255\n",
              "5  0.828100  0.588253  0.374714  0.529560\n",
              "6  0.574949  0.492633  0.918394  0.425824\n",
              "7  0.131665  0.955722  0.096739  0.558908\n",
              "8  0.909913  0.052139  0.762368  0.895639\n",
              "9  0.812866  0.501103  0.732094  0.683104"
            ]
          },
          "metadata": {
            "tags": []
          },
          "execution_count": 31
        }
      ]
    },
    {
      "cell_type": "code",
      "metadata": {
        "id": "Bpu4Ma1umTRB",
        "outputId": "b2339d6c-0437-4e3e-e48d-a74e2f149bb3",
        "colab": {
          "base_uri": "https://localhost:8080/",
          "height": 283
        }
      },
      "source": [
        "df2.plot.bar()"
      ],
      "execution_count": null,
      "outputs": [
        {
          "output_type": "execute_result",
          "data": {
            "text/plain": [
              "<matplotlib.axes._subplots.AxesSubplot at 0x7fe0a0ac6908>"
            ]
          },
          "metadata": {
            "tags": []
          },
          "execution_count": 33
        },
        {
          "output_type": "display_data",
          "data": {
            "image/png": "[encoded data removed]",
            "text/plain": [
              "<Figure size 432x288 with 1 Axes>"
            ]
          },
          "metadata": {
            "tags": [],
            "needs_background": "light"
          }
        }
      ]
    },
    {
      "cell_type": "code",
      "metadata": {
        "id": "29CGjsS6mZAB",
        "outputId": "9c00142e-9fec-4762-d663-94794b62a224",
        "colab": {
          "base_uri": "https://localhost:8080/",
          "height": 280
        }
      },
      "source": [
        "df2.plot.bar(stacked=True)"
      ],
      "execution_count": null,
      "outputs": [
        {
          "output_type": "execute_result",
          "data": {
            "text/plain": [
              "<matplotlib.axes._subplots.AxesSubplot at 0x7fe0a0ac6e10>"
            ]
          },
          "metadata": {
            "tags": []
          },
          "execution_count": 34
        },
        {
          "output_type": "display_data",
          "data": {
            "image/png": "[encoded data removed]",
            "text/plain": [
              "<Figure size 432x288 with 1 Axes>"
            ]
          },
          "metadata": {
            "tags": [],
            "needs_background": "light"
          }
        }
      ]
    },
    {
      "cell_type": "code",
      "metadata": {
        "id": "QfZUDTL-mbb6",
        "outputId": "bcb29e99-58ad-49f5-d83e-dc3b93311fbb",
        "colab": {
          "base_uri": "https://localhost:8080/",
          "height": 283
        }
      },
      "source": [
        "df2.plot.barh(stacked=True)"
      ],
      "execution_count": null,
      "outputs": [
        {
          "output_type": "execute_result",
          "data": {
            "text/plain": [
              "<matplotlib.axes._subplots.AxesSubplot at 0x7fe0a08d8278>"
            ]
          },
          "metadata": {
            "tags": []
          },
          "execution_count": 35
        },
        {
          "output_type": "display_data",
          "data": {
            "image/png": "[encoded data removed]",
            "text/plain": [
              "<Figure size 432x288 with 1 Axes>"
            ]
          },
          "metadata": {
            "tags": [],
            "needs_background": "light"
          }
        }
      ]
    },
    {
      "cell_type": "code",
      "metadata": {
        "id": "uKCIFfe2mmEl",
        "outputId": "891c5a62-c269-4f8c-82f1-d2bc42d28e4d",
        "colab": {
          "base_uri": "https://localhost:8080/",
          "height": 283
        }
      },
      "source": [
        "df2.plot.bar()"
      ],
      "execution_count": null,
      "outputs": [
        {
          "output_type": "execute_result",
          "data": {
            "text/plain": [
              "<matplotlib.axes._subplots.AxesSubplot at 0x7fe0a07df390>"
            ]
          },
          "metadata": {
            "tags": []
          },
          "execution_count": 36
        },
        {
          "output_type": "display_data",
          "data": {
            "image/png": "[encoded data removed]",
            "text/plain": [
              "<Figure size 432x288 with 1 Axes>"
            ]
          },
          "metadata": {
            "tags": [],
            "needs_background": "light"
          }
        }
      ]
    },
    {
      "cell_type": "markdown",
      "metadata": {
        "id": "tWewX4BNmoS-"
      },
      "source": [
        "## 19) 파이썬 데이터 시각화 히스토그램과 도수분포표 이해하기, 막대그래프 vs 히스토그램 차이점 이해하기"
      ]
    },
    {
      "cell_type": "markdown",
      "metadata": {
        "id": "1Ud2xQDomr6_"
      },
      "source": [
        "### Histograms"
      ]
    },
    {
      "cell_type": "markdown",
      "metadata": {
        "id": "usFM0rJgm28H"
      },
      "source": [
        "도수분포표 vs 히스토그램\n",
        "* 도수분포표 : 특정 구간에 속하는 자료의 개수를 표현\n",
        "* 히스토그램 : 도수분포표를 시각화하여 막대그래프로 표현, 하지만 bar plot과는 다름"
      ]
    },
    {
      "cell_type": "markdown",
      "metadata": {
        "id": "U65t1hd9m-lV"
      },
      "source": [
        "막대그래프 vs 히스토그램 (bar plot vs hist plot)\n",
        "* bar plot : 표현 값에 비례하여 높이와 길이를 지닌 직사각형 막대로 범주형 데이터를 표현하는 차트나 그래프, 합계, 평균 등의 수치를 시각화\n",
        "* hist plot : 구간별 빈도수를 표현하는"
      ]
    },
    {
      "cell_type": "markdown",
      "metadata": {
        "id": "OFwHBI8QnLps"
      },
      "source": [
        "히스토그램 vs 정규분포 (hist plot vs density plot)\n",
        "* hist plot : 구간별 빈도수\n",
        "* density plot : 확률 밀도 함수 - 확률 변수의 밀도를 표현"
      ]
    },
    {
      "cell_type": "markdown",
      "metadata": {
        "id": "9jFXjdyDn42J"
      },
      "source": [
        "* https://pandas.pydata.org/pandas-docs/stable/user_guide/visualization.html"
      ]
    },
    {
      "cell_type": "code",
      "metadata": {
        "id": "LXW8NrHNn_FV"
      },
      "source": [
        "import pandas as pd\n",
        "import numpy as np\n",
        "\n",
        "import matplotlib  as mpl\n",
        "import matplotlib.pyplot as plt\n",
        "%matplotlib inline\n",
        "\n",
        "# 한글폰트 사용시 그래프에서 마이너스 폰트 깨지는 문제에 대한 대처\n",
        "mpl.rcParams['axes.unicode_minus'] = False"
      ],
      "execution_count": null,
      "outputs": []
    },
    {
      "cell_type": "code",
      "metadata": {
        "id": "wom5J1zboNbY",
        "outputId": "5f70d326-bfd8-47d7-96ed-d72459c86dd4",
        "colab": {
          "base_uri": "https://localhost:8080/",
          "height": 407
        }
      },
      "source": [
        "df4 = pd.DataFrame({'a': np.random.randn(1000) + 1, \n",
        "                    'b': np.random.randn(1000),\n",
        "                    'c': np.random.randn(1000) - 1\n",
        "                    }, \n",
        "                   columns=['a', 'b', 'c'])\n",
        "df4"
      ],
      "execution_count": null,
      "outputs": [
        {
          "output_type": "execute_result",
          "data": {
            "text/html": [
              "<div>\n",
              "<style scoped>\n",
              "    .dataframe tbody tr th:only-of-type {\n",
              "        vertical-align: middle;\n",
              "    }\n",
              "\n",
              "    .dataframe tbody tr th {\n",
              "        vertical-align: top;\n",
              "    }\n",
              "\n",
              "    .dataframe thead th {\n",
              "        text-align: right;\n",
              "    }\n",
              "</style>\n",
              "<table border=\"1\" class=\"dataframe\">\n",
              "  <thead>\n",
              "    <tr style=\"text-align: right;\">\n",
              "      <th></th>\n",
              "      <th>a</th>\n",
              "      <th>b</th>\n",
              "      <th>c</th>\n",
              "    </tr>\n",
              "  </thead>\n",
              "  <tbody>\n",
              "    <tr>\n",
              "      <th>0</th>\n",
              "      <td>0.078761</td>\n",
              "      <td>-0.869781</td>\n",
              "      <td>-1.895357</td>\n",
              "    </tr>\n",
              "    <tr>\n",
              "      <th>1</th>\n",
              "      <td>1.581097</td>\n",
              "      <td>1.098247</td>\n",
              "      <td>0.400552</td>\n",
              "    </tr>\n",
              "    <tr>\n",
              "      <th>2</th>\n",
              "      <td>1.551522</td>\n",
              "      <td>-0.086723</td>\n",
              "      <td>-0.059978</td>\n",
              "    </tr>\n",
              "    <tr>\n",
              "      <th>3</th>\n",
              "      <td>0.233597</td>\n",
              "      <td>-0.086887</td>\n",
              "      <td>-2.340594</td>\n",
              "    </tr>\n",
              "    <tr>\n",
              "      <th>4</th>\n",
              "      <td>0.099549</td>\n",
              "      <td>-0.477580</td>\n",
              "      <td>0.775622</td>\n",
              "    </tr>\n",
              "    <tr>\n",
              "      <th>...</th>\n",
              "      <td>...</td>\n",
              "      <td>...</td>\n",
              "      <td>...</td>\n",
              "    </tr>\n",
              "    <tr>\n",
              "      <th>995</th>\n",
              "      <td>1.809345</td>\n",
              "      <td>-0.019494</td>\n",
              "      <td>-0.090445</td>\n",
              "    </tr>\n",
              "    <tr>\n",
              "      <th>996</th>\n",
              "      <td>1.563707</td>\n",
              "      <td>0.249104</td>\n",
              "      <td>-2.042043</td>\n",
              "    </tr>\n",
              "    <tr>\n",
              "      <th>997</th>\n",
              "      <td>0.637083</td>\n",
              "      <td>-0.037097</td>\n",
              "      <td>-1.771910</td>\n",
              "    </tr>\n",
              "    <tr>\n",
              "      <th>998</th>\n",
              "      <td>1.638342</td>\n",
              "      <td>0.819348</td>\n",
              "      <td>-1.108359</td>\n",
              "    </tr>\n",
              "    <tr>\n",
              "      <th>999</th>\n",
              "      <td>0.944437</td>\n",
              "      <td>-1.134523</td>\n",
              "      <td>-1.143796</td>\n",
              "    </tr>\n",
              "  </tbody>\n",
              "</table>\n",
              "<p>1000 rows × 3 columns</p>\n",
              "</div>"
            ],
            "text/plain": [
              "            a         b         c\n",
              "0    0.078761 -0.869781 -1.895357\n",
              "1    1.581097  1.098247  0.400552\n",
              "2    1.551522 -0.086723 -0.059978\n",
              "3    0.233597 -0.086887 -2.340594\n",
              "4    0.099549 -0.477580  0.775622\n",
              "..        ...       ...       ...\n",
              "995  1.809345 -0.019494 -0.090445\n",
              "996  1.563707  0.249104 -2.042043\n",
              "997  0.637083 -0.037097 -1.771910\n",
              "998  1.638342  0.819348 -1.108359\n",
              "999  0.944437 -1.134523 -1.143796\n",
              "\n",
              "[1000 rows x 3 columns]"
            ]
          },
          "metadata": {
            "tags": []
          },
          "execution_count": 38
        }
      ]
    },
    {
      "cell_type": "code",
      "metadata": {
        "id": "fKzvoDHGoiYm",
        "outputId": "9ff7bb5f-63fa-424b-cb74-0d190f9c6fe2",
        "colab": {
          "base_uri": "https://localhost:8080/",
          "height": 372
        }
      },
      "source": [
        "df4.hist()"
      ],
      "execution_count": null,
      "outputs": [
        {
          "output_type": "execute_result",
          "data": {
            "text/plain": [
              "array([[<matplotlib.axes._subplots.AxesSubplot object at 0x7fe0a07e27f0>,\n",
              "        <matplotlib.axes._subplots.AxesSubplot object at 0x7fe0a06a9828>],\n",
              "       [<matplotlib.axes._subplots.AxesSubplot object at 0x7fe0a065aba8>,\n",
              "        <matplotlib.axes._subplots.AxesSubplot object at 0x7fe0a068df28>]],\n",
              "      dtype=object)"
            ]
          },
          "metadata": {
            "tags": []
          },
          "execution_count": 39
        },
        {
          "output_type": "display_data",
          "data": {
            "image/png": "[encoded data removed]",
            "text/plain": [
              "<Figure size 432x288 with 4 Axes>"
            ]
          },
          "metadata": {
            "tags": [],
            "needs_background": "light"
          }
        }
      ]
    },
    {
      "cell_type": "code",
      "metadata": {
        "id": "zEA5a7SjoqkC",
        "outputId": "950f70b1-6a3f-4c83-89dc-213d05750ea2",
        "colab": {
          "base_uri": "https://localhost:8080/",
          "height": 372
        }
      },
      "source": [
        "df4.hist(alpha = 0.5)"
      ],
      "execution_count": null,
      "outputs": [
        {
          "output_type": "execute_result",
          "data": {
            "text/plain": [
              "array([[<matplotlib.axes._subplots.AxesSubplot object at 0x7fe0a07522e8>,\n",
              "        <matplotlib.axes._subplots.AxesSubplot object at 0x7fe0a052e400>],\n",
              "       [<matplotlib.axes._subplots.AxesSubplot object at 0x7fe0a04dc6a0>,\n",
              "        <matplotlib.axes._subplots.AxesSubplot object at 0x7fe0a050ea20>]],\n",
              "      dtype=object)"
            ]
          },
          "metadata": {
            "tags": []
          },
          "execution_count": 40
        },
        {
          "output_type": "display_data",
          "data": {
            "image/png": "[encoded data removed]",
            "text/plain": [
              "<Figure size 432x288 with 4 Axes>"
            ]
          },
          "metadata": {
            "tags": [],
            "needs_background": "light"
          }
        }
      ]
    },
    {
      "cell_type": "code",
      "metadata": {
        "id": "dFJucmQxos51",
        "outputId": "346d001d-68ac-4009-930c-c87561362259",
        "colab": {
          "base_uri": "https://localhost:8080/",
          "height": 283
        }
      },
      "source": [
        "df4.plot.hist()"
      ],
      "execution_count": null,
      "outputs": [
        {
          "output_type": "execute_result",
          "data": {
            "text/plain": [
              "<matplotlib.axes._subplots.AxesSubplot at 0x7fe0a07e9c88>"
            ]
          },
          "metadata": {
            "tags": []
          },
          "execution_count": 41
        },
        {
          "output_type": "display_data",
          "data": {
            "image/png": "[encoded data removed]",
            "text/plain": [
              "<Figure size 432x288 with 1 Axes>"
            ]
          },
          "metadata": {
            "tags": [],
            "needs_background": "light"
          }
        }
      ]
    },
    {
      "cell_type": "code",
      "metadata": {
        "id": "dbVX1CFGovUv",
        "outputId": "b14da70d-cbe7-4c3a-e600-6a00b2a73ed4",
        "colab": {
          "base_uri": "https://localhost:8080/",
          "height": 283
        }
      },
      "source": [
        "df4.plot.hist(alpha = 0.5)"
      ],
      "execution_count": null,
      "outputs": [
        {
          "output_type": "execute_result",
          "data": {
            "text/plain": [
              "<matplotlib.axes._subplots.AxesSubplot at 0x7fe0a3a574e0>"
            ]
          },
          "metadata": {
            "tags": []
          },
          "execution_count": 42
        },
        {
          "output_type": "display_data",
          "data": {
            "image/png": "[encoded data removed]",
            "text/plain": [
              "<Figure size 432x288 with 1 Axes>"
            ]
          },
          "metadata": {
            "tags": [],
            "needs_background": "light"
          }
        }
      ]
    },
    {
      "cell_type": "code",
      "metadata": {
        "id": "rsq-G1F3ozHU",
        "outputId": "244dd41d-7e2c-4fbb-fe77-ef61cff91961",
        "colab": {
          "base_uri": "https://localhost:8080/",
          "height": 283
        }
      },
      "source": [
        "df4.plot.hist(stacked=True, bins=20) # default bins == 10"
      ],
      "execution_count": null,
      "outputs": [
        {
          "output_type": "execute_result",
          "data": {
            "text/plain": [
              "<matplotlib.axes._subplots.AxesSubplot at 0x7fe0a03623c8>"
            ]
          },
          "metadata": {
            "tags": []
          },
          "execution_count": 44
        },
        {
          "output_type": "display_data",
          "data": {
            "image/png": "[encoded data removed]",
            "text/plain": [
              "<Figure size 432x288 with 1 Axes>"
            ]
          },
          "metadata": {
            "tags": [],
            "needs_background": "light"
          }
        }
      ]
    },
    {
      "cell_type": "code",
      "metadata": {
        "id": "2esro3WYo9PY",
        "outputId": "16bc02a2-f298-49ae-d49c-a6ca024c4569",
        "colab": {
          "base_uri": "https://localhost:8080/",
          "height": 283
        }
      },
      "source": [
        "df4.plot.hist(bins=20) # default bins == 10"
      ],
      "execution_count": null,
      "outputs": [
        {
          "output_type": "execute_result",
          "data": {
            "text/plain": [
              "<matplotlib.axes._subplots.AxesSubplot at 0x7fe0a03be9e8>"
            ]
          },
          "metadata": {
            "tags": []
          },
          "execution_count": 45
        },
        {
          "output_type": "display_data",
          "data": {
            "image/png": "[encoded data removed]",
            "text/plain": [
              "<Figure size 432x288 with 1 Axes>"
            ]
          },
          "metadata": {
            "tags": [],
            "needs_background": "light"
          }
        }
      ]
    },
    {
      "cell_type": "code",
      "metadata": {
        "id": "o5DzBQBdpGIJ",
        "outputId": "3c1dce9b-4d02-4eb4-b10b-acfbcb8aeb59",
        "colab": {
          "base_uri": "https://localhost:8080/",
          "height": 283
        }
      },
      "source": [
        "df4.plot.hist(stacked=True, bins=5) # default bins == 10"
      ],
      "execution_count": null,
      "outputs": [
        {
          "output_type": "execute_result",
          "data": {
            "text/plain": [
              "<matplotlib.axes._subplots.AxesSubplot at 0x7fe0a0071588>"
            ]
          },
          "metadata": {
            "tags": []
          },
          "execution_count": 46
        },
        {
          "output_type": "display_data",
          "data": {
            "image/png": "[encoded data removed]",
            "text/plain": [
              "<Figure size 432x288 with 1 Axes>"
            ]
          },
          "metadata": {
            "tags": [],
            "needs_background": "light"
          }
        }
      ]
    },
    {
      "cell_type": "code",
      "metadata": {
        "id": "R8Ps3CqvpM5K",
        "outputId": "7b16961a-9809-4fb9-daa4-7e465d92ac8a",
        "colab": {
          "base_uri": "https://localhost:8080/",
          "height": 283
        }
      },
      "source": [
        "df4.plot.hist(stacked=True, bins=3) # default bins == 10"
      ],
      "execution_count": null,
      "outputs": [
        {
          "output_type": "execute_result",
          "data": {
            "text/plain": [
              "<matplotlib.axes._subplots.AxesSubplot at 0x7fe0a0051470>"
            ]
          },
          "metadata": {
            "tags": []
          },
          "execution_count": 47
        },
        {
          "output_type": "display_data",
          "data": {
            "image/png": "[encoded data removed]",
            "text/plain": [
              "<Figure size 432x288 with 1 Axes>"
            ]
          },
          "metadata": {
            "tags": [],
            "needs_background": "light"
          }
        }
      ]
    },
    {
      "cell_type": "code",
      "metadata": {
        "id": "mJzOx-mtpOP4",
        "outputId": "834bba63-1a41-4c67-f647-aeddf6cfc52a",
        "colab": {
          "base_uri": "https://localhost:8080/",
          "height": 283
        }
      },
      "source": [
        "df4.plot.hist(stacked=True) # default bins == 10"
      ],
      "execution_count": null,
      "outputs": [
        {
          "output_type": "execute_result",
          "data": {
            "text/plain": [
              "<matplotlib.axes._subplots.AxesSubplot at 0x7fe0a0009160>"
            ]
          },
          "metadata": {
            "tags": []
          },
          "execution_count": 48
        },
        {
          "output_type": "display_data",
          "data": {
            "image/png": "[encoded data removed]",
            "text/plain": [
              "<Figure size 432x288 with 1 Axes>"
            ]
          },
          "metadata": {
            "tags": [],
            "needs_background": "light"
          }
        }
      ]
    },
    {
      "cell_type": "code",
      "metadata": {
        "id": "rl2_ab4GpTZY",
        "outputId": "1b69616a-f489-471f-9fc0-49a6e1e0badf",
        "colab": {
          "base_uri": "https://localhost:8080/",
          "height": 297
        }
      },
      "source": [
        "df4['a'].plot.hist(orientation='horizontal', cumulative=True)"
      ],
      "execution_count": null,
      "outputs": [
        {
          "output_type": "execute_result",
          "data": {
            "text/plain": [
              "<matplotlib.axes._subplots.AxesSubplot at 0x7fe09fe6de10>"
            ]
          },
          "metadata": {
            "tags": []
          },
          "execution_count": 49
        },
        {
          "output_type": "display_data",
          "data": {
            "image/png": "[encoded data removed]",
            "text/plain": [
              "<Figure size 432x288 with 1 Axes>"
            ]
          },
          "metadata": {
            "tags": [],
            "needs_background": "light"
          }
        }
      ]
    },
    {
      "cell_type": "code",
      "metadata": {
        "id": "d3aDgNcKpWKV",
        "outputId": "c7bdaa9c-0617-4884-f614-6df11f440946",
        "colab": {
          "base_uri": "https://localhost:8080/",
          "height": 297
        }
      },
      "source": [
        "df4['a'].plot.hist(orientation='horizontal')"
      ],
      "execution_count": null,
      "outputs": [
        {
          "output_type": "execute_result",
          "data": {
            "text/plain": [
              "<matplotlib.axes._subplots.AxesSubplot at 0x7fe09fe3dda0>"
            ]
          },
          "metadata": {
            "tags": []
          },
          "execution_count": 50
        },
        {
          "output_type": "display_data",
          "data": {
            "image/png": "[encoded data removed]",
            "text/plain": [
              "<Figure size 432x288 with 1 Axes>"
            ]
          },
          "metadata": {
            "tags": [],
            "needs_background": "light"
          }
        }
      ]
    },
    {
      "cell_type": "code",
      "metadata": {
        "id": "7ZYNQQHapX_7"
      },
      "source": [
        ""
      ],
      "execution_count": null,
      "outputs": []
    },
    {
      "cell_type": "markdown",
      "metadata": {
        "id": "01yHaxs3ph9o"
      },
      "source": [
        "## 20) 파이썬 판다스로 차분 diff 값을 구하고 히스토그램으로 표현하기"
      ]
    },
    {
      "cell_type": "code",
      "metadata": {
        "id": "iBWZIJGspjak",
        "outputId": "62973f78-1298-46d1-9ae7-6971af642d34",
        "colab": {
          "base_uri": "https://localhost:8080/",
          "height": 283
        }
      },
      "source": [
        "df['A'].diff().hist()"
      ],
      "execution_count": null,
      "outputs": [
        {
          "output_type": "execute_result",
          "data": {
            "text/plain": [
              "<matplotlib.axes._subplots.AxesSubplot at 0x7fe09fecb0b8>"
            ]
          },
          "metadata": {
            "tags": []
          },
          "execution_count": 51
        },
        {
          "output_type": "display_data",
          "data": {
            "image/png": "[encoded data removed]",
            "text/plain": [
              "<Figure size 432x288 with 1 Axes>"
            ]
          },
          "metadata": {
            "tags": [],
            "needs_background": "light"
          }
        }
      ]
    },
    {
      "cell_type": "code",
      "metadata": {
        "id": "r9P_JAqLpnvy",
        "outputId": "3deada79-9a7c-4040-f470-3d0c0cc767fe",
        "colab": {
          "base_uri": "https://localhost:8080/",
          "height": 235
        }
      },
      "source": [
        "df4.a"
      ],
      "execution_count": null,
      "outputs": [
        {
          "output_type": "execute_result",
          "data": {
            "text/plain": [
              "0      0.078761\n",
              "1      1.581097\n",
              "2      1.551522\n",
              "3      0.233597\n",
              "4      0.099549\n",
              "         ...   \n",
              "995    1.809345\n",
              "996    1.563707\n",
              "997    0.637083\n",
              "998    1.638342\n",
              "999    0.944437\n",
              "Name: a, Length: 1000, dtype: float64"
            ]
          },
          "metadata": {
            "tags": []
          },
          "execution_count": 52
        }
      ]
    },
    {
      "cell_type": "code",
      "metadata": {
        "id": "id93W8J7prd2",
        "outputId": "921c9f75-26c7-48a0-b034-072d62025652",
        "colab": {
          "base_uri": "https://localhost:8080/",
          "height": 235
        }
      },
      "source": [
        "df4.a.diff"
      ],
      "execution_count": null,
      "outputs": [
        {
          "output_type": "execute_result",
          "data": {
            "text/plain": [
              "<bound method Series.diff of 0      0.078761\n",
              "1      1.581097\n",
              "2      1.551522\n",
              "3      0.233597\n",
              "4      0.099549\n",
              "         ...   \n",
              "995    1.809345\n",
              "996    1.563707\n",
              "997    0.637083\n",
              "998    1.638342\n",
              "999    0.944437\n",
              "Name: a, Length: 1000, dtype: float64>"
            ]
          },
          "metadata": {
            "tags": []
          },
          "execution_count": 53
        }
      ]
    },
    {
      "cell_type": "code",
      "metadata": {
        "id": "skvah5fVpsqA"
      },
      "source": [
        "df4['a_diff'] = df4.a.diff()"
      ],
      "execution_count": null,
      "outputs": []
    },
    {
      "cell_type": "code",
      "metadata": {
        "id": "aOMV8_ltpv0j",
        "outputId": "0b4c1887-ab99-407c-da1d-7f64eae6f204",
        "colab": {
          "base_uri": "https://localhost:8080/",
          "height": 407
        }
      },
      "source": [
        "df4"
      ],
      "execution_count": null,
      "outputs": [
        {
          "output_type": "execute_result",
          "data": {
            "text/html": [
              "<div>\n",
              "<style scoped>\n",
              "    .dataframe tbody tr th:only-of-type {\n",
              "        vertical-align: middle;\n",
              "    }\n",
              "\n",
              "    .dataframe tbody tr th {\n",
              "        vertical-align: top;\n",
              "    }\n",
              "\n",
              "    .dataframe thead th {\n",
              "        text-align: right;\n",
              "    }\n",
              "</style>\n",
              "<table border=\"1\" class=\"dataframe\">\n",
              "  <thead>\n",
              "    <tr style=\"text-align: right;\">\n",
              "      <th></th>\n",
              "      <th>a</th>\n",
              "      <th>b</th>\n",
              "      <th>c</th>\n",
              "      <th>a_diff</th>\n",
              "    </tr>\n",
              "  </thead>\n",
              "  <tbody>\n",
              "    <tr>\n",
              "      <th>0</th>\n",
              "      <td>0.078761</td>\n",
              "      <td>-0.869781</td>\n",
              "      <td>-1.895357</td>\n",
              "      <td>NaN</td>\n",
              "    </tr>\n",
              "    <tr>\n",
              "      <th>1</th>\n",
              "      <td>1.581097</td>\n",
              "      <td>1.098247</td>\n",
              "      <td>0.400552</td>\n",
              "      <td>1.502336</td>\n",
              "    </tr>\n",
              "    <tr>\n",
              "      <th>2</th>\n",
              "      <td>1.551522</td>\n",
              "      <td>-0.086723</td>\n",
              "      <td>-0.059978</td>\n",
              "      <td>-0.029575</td>\n",
              "    </tr>\n",
              "    <tr>\n",
              "      <th>3</th>\n",
              "      <td>0.233597</td>\n",
              "      <td>-0.086887</td>\n",
              "      <td>-2.340594</td>\n",
              "      <td>-1.317925</td>\n",
              "    </tr>\n",
              "    <tr>\n",
              "      <th>4</th>\n",
              "      <td>0.099549</td>\n",
              "      <td>-0.477580</td>\n",
              "      <td>0.775622</td>\n",
              "      <td>-0.134048</td>\n",
              "    </tr>\n",
              "    <tr>\n",
              "      <th>...</th>\n",
              "      <td>...</td>\n",
              "      <td>...</td>\n",
              "      <td>...</td>\n",
              "      <td>...</td>\n",
              "    </tr>\n",
              "    <tr>\n",
              "      <th>995</th>\n",
              "      <td>1.809345</td>\n",
              "      <td>-0.019494</td>\n",
              "      <td>-0.090445</td>\n",
              "      <td>-0.331737</td>\n",
              "    </tr>\n",
              "    <tr>\n",
              "      <th>996</th>\n",
              "      <td>1.563707</td>\n",
              "      <td>0.249104</td>\n",
              "      <td>-2.042043</td>\n",
              "      <td>-0.245637</td>\n",
              "    </tr>\n",
              "    <tr>\n",
              "      <th>997</th>\n",
              "      <td>0.637083</td>\n",
              "      <td>-0.037097</td>\n",
              "      <td>-1.771910</td>\n",
              "      <td>-0.926624</td>\n",
              "    </tr>\n",
              "    <tr>\n",
              "      <th>998</th>\n",
              "      <td>1.638342</td>\n",
              "      <td>0.819348</td>\n",
              "      <td>-1.108359</td>\n",
              "      <td>1.001259</td>\n",
              "    </tr>\n",
              "    <tr>\n",
              "      <th>999</th>\n",
              "      <td>0.944437</td>\n",
              "      <td>-1.134523</td>\n",
              "      <td>-1.143796</td>\n",
              "      <td>-0.693906</td>\n",
              "    </tr>\n",
              "  </tbody>\n",
              "</table>\n",
              "<p>1000 rows × 4 columns</p>\n",
              "</div>"
            ],
            "text/plain": [
              "            a         b         c    a_diff\n",
              "0    0.078761 -0.869781 -1.895357       NaN\n",
              "1    1.581097  1.098247  0.400552  1.502336\n",
              "2    1.551522 -0.086723 -0.059978 -0.029575\n",
              "3    0.233597 -0.086887 -2.340594 -1.317925\n",
              "4    0.099549 -0.477580  0.775622 -0.134048\n",
              "..        ...       ...       ...       ...\n",
              "995  1.809345 -0.019494 -0.090445 -0.331737\n",
              "996  1.563707  0.249104 -2.042043 -0.245637\n",
              "997  0.637083 -0.037097 -1.771910 -0.926624\n",
              "998  1.638342  0.819348 -1.108359  1.001259\n",
              "999  0.944437 -1.134523 -1.143796 -0.693906\n",
              "\n",
              "[1000 rows x 4 columns]"
            ]
          },
          "metadata": {
            "tags": []
          },
          "execution_count": 55
        }
      ]
    },
    {
      "cell_type": "code",
      "metadata": {
        "id": "5X7cQeV9pwN8",
        "outputId": "0223f4b1-dfef-4c8c-9d71-e5c358ee5b28",
        "colab": {
          "base_uri": "https://localhost:8080/",
          "height": 407
        }
      },
      "source": [
        "df4[['a', 'a_diff']]"
      ],
      "execution_count": null,
      "outputs": [
        {
          "output_type": "execute_result",
          "data": {
            "text/html": [
              "<div>\n",
              "<style scoped>\n",
              "    .dataframe tbody tr th:only-of-type {\n",
              "        vertical-align: middle;\n",
              "    }\n",
              "\n",
              "    .dataframe tbody tr th {\n",
              "        vertical-align: top;\n",
              "    }\n",
              "\n",
              "    .dataframe thead th {\n",
              "        text-align: right;\n",
              "    }\n",
              "</style>\n",
              "<table border=\"1\" class=\"dataframe\">\n",
              "  <thead>\n",
              "    <tr style=\"text-align: right;\">\n",
              "      <th></th>\n",
              "      <th>a</th>\n",
              "      <th>a_diff</th>\n",
              "    </tr>\n",
              "  </thead>\n",
              "  <tbody>\n",
              "    <tr>\n",
              "      <th>0</th>\n",
              "      <td>0.078761</td>\n",
              "      <td>NaN</td>\n",
              "    </tr>\n",
              "    <tr>\n",
              "      <th>1</th>\n",
              "      <td>1.581097</td>\n",
              "      <td>1.502336</td>\n",
              "    </tr>\n",
              "    <tr>\n",
              "      <th>2</th>\n",
              "      <td>1.551522</td>\n",
              "      <td>-0.029575</td>\n",
              "    </tr>\n",
              "    <tr>\n",
              "      <th>3</th>\n",
              "      <td>0.233597</td>\n",
              "      <td>-1.317925</td>\n",
              "    </tr>\n",
              "    <tr>\n",
              "      <th>4</th>\n",
              "      <td>0.099549</td>\n",
              "      <td>-0.134048</td>\n",
              "    </tr>\n",
              "    <tr>\n",
              "      <th>...</th>\n",
              "      <td>...</td>\n",
              "      <td>...</td>\n",
              "    </tr>\n",
              "    <tr>\n",
              "      <th>995</th>\n",
              "      <td>1.809345</td>\n",
              "      <td>-0.331737</td>\n",
              "    </tr>\n",
              "    <tr>\n",
              "      <th>996</th>\n",
              "      <td>1.563707</td>\n",
              "      <td>-0.245637</td>\n",
              "    </tr>\n",
              "    <tr>\n",
              "      <th>997</th>\n",
              "      <td>0.637083</td>\n",
              "      <td>-0.926624</td>\n",
              "    </tr>\n",
              "    <tr>\n",
              "      <th>998</th>\n",
              "      <td>1.638342</td>\n",
              "      <td>1.001259</td>\n",
              "    </tr>\n",
              "    <tr>\n",
              "      <th>999</th>\n",
              "      <td>0.944437</td>\n",
              "      <td>-0.693906</td>\n",
              "    </tr>\n",
              "  </tbody>\n",
              "</table>\n",
              "<p>1000 rows × 2 columns</p>\n",
              "</div>"
            ],
            "text/plain": [
              "            a    a_diff\n",
              "0    0.078761       NaN\n",
              "1    1.581097  1.502336\n",
              "2    1.551522 -0.029575\n",
              "3    0.233597 -1.317925\n",
              "4    0.099549 -0.134048\n",
              "..        ...       ...\n",
              "995  1.809345 -0.331737\n",
              "996  1.563707 -0.245637\n",
              "997  0.637083 -0.926624\n",
              "998  1.638342  1.001259\n",
              "999  0.944437 -0.693906\n",
              "\n",
              "[1000 rows x 2 columns]"
            ]
          },
          "metadata": {
            "tags": []
          },
          "execution_count": 57
        }
      ]
    },
    {
      "cell_type": "code",
      "metadata": {
        "id": "PO8Ytq0Dp29A"
      },
      "source": [
        "df4['a_shift'] = df4.a.shift(1)"
      ],
      "execution_count": null,
      "outputs": []
    },
    {
      "cell_type": "code",
      "metadata": {
        "id": "h7bXxUW8p-tr",
        "outputId": "2256b06f-ac86-45f3-b1f7-77315f975c2d",
        "colab": {
          "base_uri": "https://localhost:8080/",
          "height": 407
        }
      },
      "source": [
        "df4"
      ],
      "execution_count": null,
      "outputs": [
        {
          "output_type": "execute_result",
          "data": {
            "text/html": [
              "<div>\n",
              "<style scoped>\n",
              "    .dataframe tbody tr th:only-of-type {\n",
              "        vertical-align: middle;\n",
              "    }\n",
              "\n",
              "    .dataframe tbody tr th {\n",
              "        vertical-align: top;\n",
              "    }\n",
              "\n",
              "    .dataframe thead th {\n",
              "        text-align: right;\n",
              "    }\n",
              "</style>\n",
              "<table border=\"1\" class=\"dataframe\">\n",
              "  <thead>\n",
              "    <tr style=\"text-align: right;\">\n",
              "      <th></th>\n",
              "      <th>a</th>\n",
              "      <th>b</th>\n",
              "      <th>c</th>\n",
              "      <th>a_diff</th>\n",
              "      <th>a_shift</th>\n",
              "    </tr>\n",
              "  </thead>\n",
              "  <tbody>\n",
              "    <tr>\n",
              "      <th>0</th>\n",
              "      <td>0.078761</td>\n",
              "      <td>-0.869781</td>\n",
              "      <td>-1.895357</td>\n",
              "      <td>NaN</td>\n",
              "      <td>NaN</td>\n",
              "    </tr>\n",
              "    <tr>\n",
              "      <th>1</th>\n",
              "      <td>1.581097</td>\n",
              "      <td>1.098247</td>\n",
              "      <td>0.400552</td>\n",
              "      <td>1.502336</td>\n",
              "      <td>0.078761</td>\n",
              "    </tr>\n",
              "    <tr>\n",
              "      <th>2</th>\n",
              "      <td>1.551522</td>\n",
              "      <td>-0.086723</td>\n",
              "      <td>-0.059978</td>\n",
              "      <td>-0.029575</td>\n",
              "      <td>1.581097</td>\n",
              "    </tr>\n",
              "    <tr>\n",
              "      <th>3</th>\n",
              "      <td>0.233597</td>\n",
              "      <td>-0.086887</td>\n",
              "      <td>-2.340594</td>\n",
              "      <td>-1.317925</td>\n",
              "      <td>1.551522</td>\n",
              "    </tr>\n",
              "    <tr>\n",
              "      <th>4</th>\n",
              "      <td>0.099549</td>\n",
              "      <td>-0.477580</td>\n",
              "      <td>0.775622</td>\n",
              "      <td>-0.134048</td>\n",
              "      <td>0.233597</td>\n",
              "    </tr>\n",
              "    <tr>\n",
              "      <th>...</th>\n",
              "      <td>...</td>\n",
              "      <td>...</td>\n",
              "      <td>...</td>\n",
              "      <td>...</td>\n",
              "      <td>...</td>\n",
              "    </tr>\n",
              "    <tr>\n",
              "      <th>995</th>\n",
              "      <td>1.809345</td>\n",
              "      <td>-0.019494</td>\n",
              "      <td>-0.090445</td>\n",
              "      <td>-0.331737</td>\n",
              "      <td>2.141081</td>\n",
              "    </tr>\n",
              "    <tr>\n",
              "      <th>996</th>\n",
              "      <td>1.563707</td>\n",
              "      <td>0.249104</td>\n",
              "      <td>-2.042043</td>\n",
              "      <td>-0.245637</td>\n",
              "      <td>1.809345</td>\n",
              "    </tr>\n",
              "    <tr>\n",
              "      <th>997</th>\n",
              "      <td>0.637083</td>\n",
              "      <td>-0.037097</td>\n",
              "      <td>-1.771910</td>\n",
              "      <td>-0.926624</td>\n",
              "      <td>1.563707</td>\n",
              "    </tr>\n",
              "    <tr>\n",
              "      <th>998</th>\n",
              "      <td>1.638342</td>\n",
              "      <td>0.819348</td>\n",
              "      <td>-1.108359</td>\n",
              "      <td>1.001259</td>\n",
              "      <td>0.637083</td>\n",
              "    </tr>\n",
              "    <tr>\n",
              "      <th>999</th>\n",
              "      <td>0.944437</td>\n",
              "      <td>-1.134523</td>\n",
              "      <td>-1.143796</td>\n",
              "      <td>-0.693906</td>\n",
              "      <td>1.638342</td>\n",
              "    </tr>\n",
              "  </tbody>\n",
              "</table>\n",
              "<p>1000 rows × 5 columns</p>\n",
              "</div>"
            ],
            "text/plain": [
              "            a         b         c    a_diff   a_shift\n",
              "0    0.078761 -0.869781 -1.895357       NaN       NaN\n",
              "1    1.581097  1.098247  0.400552  1.502336  0.078761\n",
              "2    1.551522 -0.086723 -0.059978 -0.029575  1.581097\n",
              "3    0.233597 -0.086887 -2.340594 -1.317925  1.551522\n",
              "4    0.099549 -0.477580  0.775622 -0.134048  0.233597\n",
              "..        ...       ...       ...       ...       ...\n",
              "995  1.809345 -0.019494 -0.090445 -0.331737  2.141081\n",
              "996  1.563707  0.249104 -2.042043 -0.245637  1.809345\n",
              "997  0.637083 -0.037097 -1.771910 -0.926624  1.563707\n",
              "998  1.638342  0.819348 -1.108359  1.001259  0.637083\n",
              "999  0.944437 -1.134523 -1.143796 -0.693906  1.638342\n",
              "\n",
              "[1000 rows x 5 columns]"
            ]
          },
          "metadata": {
            "tags": []
          },
          "execution_count": 60
        }
      ]
    },
    {
      "cell_type": "code",
      "metadata": {
        "id": "S9Fdl6cQqDR4",
        "outputId": "3c2a1248-1e36-4422-cac3-e3b75fcc5b5c",
        "colab": {
          "base_uri": "https://localhost:8080/",
          "height": 407
        }
      },
      "source": [
        "df4[['a', 'a_shift', 'a_diff']]"
      ],
      "execution_count": null,
      "outputs": [
        {
          "output_type": "execute_result",
          "data": {
            "text/html": [
              "<div>\n",
              "<style scoped>\n",
              "    .dataframe tbody tr th:only-of-type {\n",
              "        vertical-align: middle;\n",
              "    }\n",
              "\n",
              "    .dataframe tbody tr th {\n",
              "        vertical-align: top;\n",
              "    }\n",
              "\n",
              "    .dataframe thead th {\n",
              "        text-align: right;\n",
              "    }\n",
              "</style>\n",
              "<table border=\"1\" class=\"dataframe\">\n",
              "  <thead>\n",
              "    <tr style=\"text-align: right;\">\n",
              "      <th></th>\n",
              "      <th>a</th>\n",
              "      <th>a_shift</th>\n",
              "      <th>a_diff</th>\n",
              "    </tr>\n",
              "  </thead>\n",
              "  <tbody>\n",
              "    <tr>\n",
              "      <th>0</th>\n",
              "      <td>0.078761</td>\n",
              "      <td>NaN</td>\n",
              "      <td>NaN</td>\n",
              "    </tr>\n",
              "    <tr>\n",
              "      <th>1</th>\n",
              "      <td>1.581097</td>\n",
              "      <td>0.078761</td>\n",
              "      <td>1.502336</td>\n",
              "    </tr>\n",
              "    <tr>\n",
              "      <th>2</th>\n",
              "      <td>1.551522</td>\n",
              "      <td>1.581097</td>\n",
              "      <td>-0.029575</td>\n",
              "    </tr>\n",
              "    <tr>\n",
              "      <th>3</th>\n",
              "      <td>0.233597</td>\n",
              "      <td>1.551522</td>\n",
              "      <td>-1.317925</td>\n",
              "    </tr>\n",
              "    <tr>\n",
              "      <th>4</th>\n",
              "      <td>0.099549</td>\n",
              "      <td>0.233597</td>\n",
              "      <td>-0.134048</td>\n",
              "    </tr>\n",
              "    <tr>\n",
              "      <th>...</th>\n",
              "      <td>...</td>\n",
              "      <td>...</td>\n",
              "      <td>...</td>\n",
              "    </tr>\n",
              "    <tr>\n",
              "      <th>995</th>\n",
              "      <td>1.809345</td>\n",
              "      <td>2.141081</td>\n",
              "      <td>-0.331737</td>\n",
              "    </tr>\n",
              "    <tr>\n",
              "      <th>996</th>\n",
              "      <td>1.563707</td>\n",
              "      <td>1.809345</td>\n",
              "      <td>-0.245637</td>\n",
              "    </tr>\n",
              "    <tr>\n",
              "      <th>997</th>\n",
              "      <td>0.637083</td>\n",
              "      <td>1.563707</td>\n",
              "      <td>-0.926624</td>\n",
              "    </tr>\n",
              "    <tr>\n",
              "      <th>998</th>\n",
              "      <td>1.638342</td>\n",
              "      <td>0.637083</td>\n",
              "      <td>1.001259</td>\n",
              "    </tr>\n",
              "    <tr>\n",
              "      <th>999</th>\n",
              "      <td>0.944437</td>\n",
              "      <td>1.638342</td>\n",
              "      <td>-0.693906</td>\n",
              "    </tr>\n",
              "  </tbody>\n",
              "</table>\n",
              "<p>1000 rows × 3 columns</p>\n",
              "</div>"
            ],
            "text/plain": [
              "            a   a_shift    a_diff\n",
              "0    0.078761       NaN       NaN\n",
              "1    1.581097  0.078761  1.502336\n",
              "2    1.551522  1.581097 -0.029575\n",
              "3    0.233597  1.551522 -1.317925\n",
              "4    0.099549  0.233597 -0.134048\n",
              "..        ...       ...       ...\n",
              "995  1.809345  2.141081 -0.331737\n",
              "996  1.563707  1.809345 -0.245637\n",
              "997  0.637083  1.563707 -0.926624\n",
              "998  1.638342  0.637083  1.001259\n",
              "999  0.944437  1.638342 -0.693906\n",
              "\n",
              "[1000 rows x 3 columns]"
            ]
          },
          "metadata": {
            "tags": []
          },
          "execution_count": 61
        }
      ]
    },
    {
      "cell_type": "code",
      "metadata": {
        "id": "zGGr3Hp7qHgA"
      },
      "source": [
        "df4['a_minus'] = df4.a - df4.a_shift"
      ],
      "execution_count": null,
      "outputs": []
    },
    {
      "cell_type": "code",
      "metadata": {
        "id": "fCGnaO-gqL8l",
        "outputId": "98f8caff-5402-444f-87d4-559bac1ee9e6",
        "colab": {
          "base_uri": "https://localhost:8080/",
          "height": 407
        }
      },
      "source": [
        "df4[['a', 'a_shift', 'a_minus', 'a_diff']]"
      ],
      "execution_count": null,
      "outputs": [
        {
          "output_type": "execute_result",
          "data": {
            "text/html": [
              "<div>\n",
              "<style scoped>\n",
              "    .dataframe tbody tr th:only-of-type {\n",
              "        vertical-align: middle;\n",
              "    }\n",
              "\n",
              "    .dataframe tbody tr th {\n",
              "        vertical-align: top;\n",
              "    }\n",
              "\n",
              "    .dataframe thead th {\n",
              "        text-align: right;\n",
              "    }\n",
              "</style>\n",
              "<table border=\"1\" class=\"dataframe\">\n",
              "  <thead>\n",
              "    <tr style=\"text-align: right;\">\n",
              "      <th></th>\n",
              "      <th>a</th>\n",
              "      <th>a_shift</th>\n",
              "      <th>a_minus</th>\n",
              "      <th>a_diff</th>\n",
              "    </tr>\n",
              "  </thead>\n",
              "  <tbody>\n",
              "    <tr>\n",
              "      <th>0</th>\n",
              "      <td>0.078761</td>\n",
              "      <td>NaN</td>\n",
              "      <td>NaN</td>\n",
              "      <td>NaN</td>\n",
              "    </tr>\n",
              "    <tr>\n",
              "      <th>1</th>\n",
              "      <td>1.581097</td>\n",
              "      <td>0.078761</td>\n",
              "      <td>1.502336</td>\n",
              "      <td>1.502336</td>\n",
              "    </tr>\n",
              "    <tr>\n",
              "      <th>2</th>\n",
              "      <td>1.551522</td>\n",
              "      <td>1.581097</td>\n",
              "      <td>-0.029575</td>\n",
              "      <td>-0.029575</td>\n",
              "    </tr>\n",
              "    <tr>\n",
              "      <th>3</th>\n",
              "      <td>0.233597</td>\n",
              "      <td>1.551522</td>\n",
              "      <td>-1.317925</td>\n",
              "      <td>-1.317925</td>\n",
              "    </tr>\n",
              "    <tr>\n",
              "      <th>4</th>\n",
              "      <td>0.099549</td>\n",
              "      <td>0.233597</td>\n",
              "      <td>-0.134048</td>\n",
              "      <td>-0.134048</td>\n",
              "    </tr>\n",
              "    <tr>\n",
              "      <th>...</th>\n",
              "      <td>...</td>\n",
              "      <td>...</td>\n",
              "      <td>...</td>\n",
              "      <td>...</td>\n",
              "    </tr>\n",
              "    <tr>\n",
              "      <th>995</th>\n",
              "      <td>1.809345</td>\n",
              "      <td>2.141081</td>\n",
              "      <td>-0.331737</td>\n",
              "      <td>-0.331737</td>\n",
              "    </tr>\n",
              "    <tr>\n",
              "      <th>996</th>\n",
              "      <td>1.563707</td>\n",
              "      <td>1.809345</td>\n",
              "      <td>-0.245637</td>\n",
              "      <td>-0.245637</td>\n",
              "    </tr>\n",
              "    <tr>\n",
              "      <th>997</th>\n",
              "      <td>0.637083</td>\n",
              "      <td>1.563707</td>\n",
              "      <td>-0.926624</td>\n",
              "      <td>-0.926624</td>\n",
              "    </tr>\n",
              "    <tr>\n",
              "      <th>998</th>\n",
              "      <td>1.638342</td>\n",
              "      <td>0.637083</td>\n",
              "      <td>1.001259</td>\n",
              "      <td>1.001259</td>\n",
              "    </tr>\n",
              "    <tr>\n",
              "      <th>999</th>\n",
              "      <td>0.944437</td>\n",
              "      <td>1.638342</td>\n",
              "      <td>-0.693906</td>\n",
              "      <td>-0.693906</td>\n",
              "    </tr>\n",
              "  </tbody>\n",
              "</table>\n",
              "<p>1000 rows × 4 columns</p>\n",
              "</div>"
            ],
            "text/plain": [
              "            a   a_shift   a_minus    a_diff\n",
              "0    0.078761       NaN       NaN       NaN\n",
              "1    1.581097  0.078761  1.502336  1.502336\n",
              "2    1.551522  1.581097 -0.029575 -0.029575\n",
              "3    0.233597  1.551522 -1.317925 -1.317925\n",
              "4    0.099549  0.233597 -0.134048 -0.134048\n",
              "..        ...       ...       ...       ...\n",
              "995  1.809345  2.141081 -0.331737 -0.331737\n",
              "996  1.563707  1.809345 -0.245637 -0.245637\n",
              "997  0.637083  1.563707 -0.926624 -0.926624\n",
              "998  1.638342  0.637083  1.001259  1.001259\n",
              "999  0.944437  1.638342 -0.693906 -0.693906\n",
              "\n",
              "[1000 rows x 4 columns]"
            ]
          },
          "metadata": {
            "tags": []
          },
          "execution_count": 63
        }
      ]
    },
    {
      "cell_type": "code",
      "metadata": {
        "id": "UgcLNCMiqOiB",
        "outputId": "6ac5a466-fbf7-464c-eb84-555153a52ef4",
        "colab": {
          "base_uri": "https://localhost:8080/",
          "height": 372
        }
      },
      "source": [
        "df4[['a', 'b', 'c']].diff().hist(color='k', alpha=0.5, bins=50)"
      ],
      "execution_count": null,
      "outputs": [
        {
          "output_type": "execute_result",
          "data": {
            "text/plain": [
              "array([[<matplotlib.axes._subplots.AxesSubplot object at 0x7fe0a0bae588>,\n",
              "        <matplotlib.axes._subplots.AxesSubplot object at 0x7fe0a03b97f0>],\n",
              "       [<matplotlib.axes._subplots.AxesSubplot object at 0x7fe0a0840080>,\n",
              "        <matplotlib.axes._subplots.AxesSubplot object at 0x7fe0a02cef28>]],\n",
              "      dtype=object)"
            ]
          },
          "metadata": {
            "tags": []
          },
          "execution_count": 65
        },
        {
          "output_type": "display_data",
          "data": {
            "image/png": "[encoded data removed]",
            "text/plain": [
              "<Figure size 432x288 with 4 Axes>"
            ]
          },
          "metadata": {
            "tags": [],
            "needs_background": "light"
          }
        }
      ]
    },
    {
      "cell_type": "code",
      "metadata": {
        "id": "QrysxhBlqms7",
        "outputId": "56fb15c8-46cf-4446-f8e5-80cda318009d",
        "colab": {
          "base_uri": "https://localhost:8080/",
          "height": 372
        }
      },
      "source": [
        "df4[['a', 'b', 'c']].diff().hist(color='k', alpha=0.5, bins=10)"
      ],
      "execution_count": null,
      "outputs": [
        {
          "output_type": "execute_result",
          "data": {
            "text/plain": [
              "array([[<matplotlib.axes._subplots.AxesSubplot object at 0x7fe09fa89b38>,\n",
              "        <matplotlib.axes._subplots.AxesSubplot object at 0x7fe09f999710>],\n",
              "       [<matplotlib.axes._subplots.AxesSubplot object at 0x7fe09f9c3978>,\n",
              "        <matplotlib.axes._subplots.AxesSubplot object at 0x7fe09f976be0>]],\n",
              "      dtype=object)"
            ]
          },
          "metadata": {
            "tags": []
          },
          "execution_count": 66
        },
        {
          "output_type": "display_data",
          "data": {
            "image/png": "[encoded data removed]",
            "text/plain": [
              "<Figure size 432x288 with 4 Axes>"
            ]
          },
          "metadata": {
            "tags": [],
            "needs_background": "light"
          }
        }
      ]
    },
    {
      "cell_type": "code",
      "metadata": {
        "id": "jjpqwr-Qq1Gb",
        "outputId": "ece6c581-d309-4834-988c-78a93bc4c3dd",
        "colab": {
          "base_uri": "https://localhost:8080/",
          "height": 372
        }
      },
      "source": [
        "df4[['a', 'b', 'c']].diff().hist(color='k', alpha=0.5, bins=30)"
      ],
      "execution_count": null,
      "outputs": [
        {
          "output_type": "execute_result",
          "data": {
            "text/plain": [
              "array([[<matplotlib.axes._subplots.AxesSubplot object at 0x7fe09fa0fa90>,\n",
              "        <matplotlib.axes._subplots.AxesSubplot object at 0x7fe09f8874e0>],\n",
              "       [<matplotlib.axes._subplots.AxesSubplot object at 0x7fe09f83a780>,\n",
              "        <matplotlib.axes._subplots.AxesSubplot object at 0x7fe09f7ebb00>]],\n",
              "      dtype=object)"
            ]
          },
          "metadata": {
            "tags": []
          },
          "execution_count": 67
        },
        {
          "output_type": "display_data",
          "data": {
            "image/png": "[encoded data removed]",
            "text/plain": [
              "<Figure size 432x288 with 4 Axes>"
            ]
          },
          "metadata": {
            "tags": [],
            "needs_background": "light"
          }
        }
      ]
    },
    {
      "cell_type": "code",
      "metadata": {
        "id": "2pkXPGWIq3N_"
      },
      "source": [
        "data = pd.Series(np.random.randn(1000))"
      ],
      "execution_count": null,
      "outputs": []
    },
    {
      "cell_type": "code",
      "metadata": {
        "id": "UqaVXOzFq5zP",
        "outputId": "2d578219-f3b1-4aed-b8f5-6bd18f60df29",
        "colab": {
          "base_uri": "https://localhost:8080/",
          "height": 235
        }
      },
      "source": [
        "data"
      ],
      "execution_count": null,
      "outputs": [
        {
          "output_type": "execute_result",
          "data": {
            "text/plain": [
              "0     -0.846315\n",
              "1      0.196571\n",
              "2     -0.491311\n",
              "3     -1.654694\n",
              "4      1.756816\n",
              "         ...   \n",
              "995    1.601082\n",
              "996   -0.049659\n",
              "997    0.515898\n",
              "998   -0.107330\n",
              "999    0.040287\n",
              "Length: 1000, dtype: float64"
            ]
          },
          "metadata": {
            "tags": []
          },
          "execution_count": 69
        }
      ]
    },
    {
      "cell_type": "code",
      "metadata": {
        "id": "vEL8J7QQq6Ua",
        "outputId": "1f132df7-a695-454f-e4cc-4b18086f9695",
        "colab": {
          "base_uri": "https://localhost:8080/",
          "height": 371
        }
      },
      "source": [
        "data.hist(by=np.random.randint(0, 4, 1000), figsize=(6, 4))"
      ],
      "execution_count": null,
      "outputs": [
        {
          "output_type": "execute_result",
          "data": {
            "text/plain": [
              "array([[<matplotlib.axes._subplots.AxesSubplot object at 0x7fe09fa0fd68>,\n",
              "        <matplotlib.axes._subplots.AxesSubplot object at 0x7fe09f619eb8>],\n",
              "       [<matplotlib.axes._subplots.AxesSubplot object at 0x7fe09f654198>,\n",
              "        <matplotlib.axes._subplots.AxesSubplot object at 0x7fe09f607518>]],\n",
              "      dtype=object)"
            ]
          },
          "metadata": {
            "tags": []
          },
          "execution_count": 70
        },
        {
          "output_type": "display_data",
          "data": {
            "image/png": "[encoded data removed]",
            "text/plain": [
              "<Figure size 432x288 with 4 Axes>"
            ]
          },
          "metadata": {
            "tags": [],
            "needs_background": "light"
          }
        }
      ]
    },
    {
      "cell_type": "code",
      "metadata": {
        "id": "mQ1GcWh0q-rV"
      },
      "source": [
        "data = pd.Series(np.random.randn(1000))\n",
        "data = pd.DataFrame({'a' : np.random.randn(1000), \n",
        "                     'b' : np.random.randint(0, 4, 1000)\n",
        "                     }\n",
        "                    )"
      ],
      "execution_count": null,
      "outputs": []
    },
    {
      "cell_type": "code",
      "metadata": {
        "id": "aZyCRMrBrOe4",
        "outputId": "5e0bfed0-93ec-4240-9036-c98eb189b0f6",
        "colab": {
          "base_uri": "https://localhost:8080/",
          "height": 407
        }
      },
      "source": [
        "data"
      ],
      "execution_count": null,
      "outputs": [
        {
          "output_type": "execute_result",
          "data": {
            "text/html": [
              "<div>\n",
              "<style scoped>\n",
              "    .dataframe tbody tr th:only-of-type {\n",
              "        vertical-align: middle;\n",
              "    }\n",
              "\n",
              "    .dataframe tbody tr th {\n",
              "        vertical-align: top;\n",
              "    }\n",
              "\n",
              "    .dataframe thead th {\n",
              "        text-align: right;\n",
              "    }\n",
              "</style>\n",
              "<table border=\"1\" class=\"dataframe\">\n",
              "  <thead>\n",
              "    <tr style=\"text-align: right;\">\n",
              "      <th></th>\n",
              "      <th>a</th>\n",
              "      <th>b</th>\n",
              "    </tr>\n",
              "  </thead>\n",
              "  <tbody>\n",
              "    <tr>\n",
              "      <th>0</th>\n",
              "      <td>-0.399071</td>\n",
              "      <td>0</td>\n",
              "    </tr>\n",
              "    <tr>\n",
              "      <th>1</th>\n",
              "      <td>-0.266351</td>\n",
              "      <td>2</td>\n",
              "    </tr>\n",
              "    <tr>\n",
              "      <th>2</th>\n",
              "      <td>-1.719014</td>\n",
              "      <td>0</td>\n",
              "    </tr>\n",
              "    <tr>\n",
              "      <th>3</th>\n",
              "      <td>1.392540</td>\n",
              "      <td>1</td>\n",
              "    </tr>\n",
              "    <tr>\n",
              "      <th>4</th>\n",
              "      <td>1.418087</td>\n",
              "      <td>3</td>\n",
              "    </tr>\n",
              "    <tr>\n",
              "      <th>...</th>\n",
              "      <td>...</td>\n",
              "      <td>...</td>\n",
              "    </tr>\n",
              "    <tr>\n",
              "      <th>995</th>\n",
              "      <td>0.269668</td>\n",
              "      <td>3</td>\n",
              "    </tr>\n",
              "    <tr>\n",
              "      <th>996</th>\n",
              "      <td>-0.207548</td>\n",
              "      <td>0</td>\n",
              "    </tr>\n",
              "    <tr>\n",
              "      <th>997</th>\n",
              "      <td>-0.755265</td>\n",
              "      <td>2</td>\n",
              "    </tr>\n",
              "    <tr>\n",
              "      <th>998</th>\n",
              "      <td>1.097187</td>\n",
              "      <td>2</td>\n",
              "    </tr>\n",
              "    <tr>\n",
              "      <th>999</th>\n",
              "      <td>-0.941327</td>\n",
              "      <td>3</td>\n",
              "    </tr>\n",
              "  </tbody>\n",
              "</table>\n",
              "<p>1000 rows × 2 columns</p>\n",
              "</div>"
            ],
            "text/plain": [
              "            a  b\n",
              "0   -0.399071  0\n",
              "1   -0.266351  2\n",
              "2   -1.719014  0\n",
              "3    1.392540  1\n",
              "4    1.418087  3\n",
              "..        ... ..\n",
              "995  0.269668  3\n",
              "996 -0.207548  0\n",
              "997 -0.755265  2\n",
              "998  1.097187  2\n",
              "999 -0.941327  3\n",
              "\n",
              "[1000 rows x 2 columns]"
            ]
          },
          "metadata": {
            "tags": []
          },
          "execution_count": 72
        }
      ]
    },
    {
      "cell_type": "code",
      "metadata": {
        "id": "hz1ZWBbGrPHu",
        "outputId": "28de143f-dca2-46d4-9b16-14eb2cf301fd",
        "colab": {
          "base_uri": "https://localhost:8080/",
          "height": 371
        }
      },
      "source": [
        "data['a'].hist(by = data['b'], figsize=(6, 4))"
      ],
      "execution_count": null,
      "outputs": [
        {
          "output_type": "execute_result",
          "data": {
            "text/plain": [
              "array([[<matplotlib.axes._subplots.AxesSubplot object at 0x7fe09f4fb208>,\n",
              "        <matplotlib.axes._subplots.AxesSubplot object at 0x7fe09f4c25f8>],\n",
              "       [<matplotlib.axes._subplots.AxesSubplot object at 0x7fe09f4757b8>,\n",
              "        <matplotlib.axes._subplots.AxesSubplot object at 0x7fe09f426a58>]],\n",
              "      dtype=object)"
            ]
          },
          "metadata": {
            "tags": []
          },
          "execution_count": 76
        },
        {
          "output_type": "display_data",
          "data": {
            "image/png": "[encoded data removed]",
            "text/plain": [
              "<Figure size 432x288 with 4 Axes>"
            ]
          },
          "metadata": {
            "tags": [],
            "needs_background": "light"
          }
        }
      ]
    },
    {
      "cell_type": "markdown",
      "metadata": {
        "id": "PYkcOSzErW1p"
      },
      "source": [
        "## 21) 파이썬 시각화 상자 수염 그림(box plot) 그리기"
      ]
    },
    {
      "cell_type": "markdown",
      "metadata": {
        "id": "r5ufvDdkrqKw"
      },
      "source": [
        "### box plot"
      ]
    },
    {
      "cell_type": "markdown",
      "metadata": {
        "id": "Dd_AuMptrubn"
      },
      "source": [
        "* https://pandas.pydata.org/pandas-docs/stable/user_guide/boolean.html\n",
        "* box-and-whisker plot, box-and-whisker diagram\n",
        "* 상자 수염 그림\n",
        "* 가공하지 않은 자료 그대로를 이용하여 그린 것이 아니라, 자료로부터 얻어낸 통계량인 5가지 요약 수치로 그림\n",
        "* 5가지 요약 수치란 기술통계학에서 자료의 정보를 알려주는 아래의 다섯 가지 수치를 의미\n",
        "** 최소값\n",
        "** 제 1 사분위수\n",
        "** 제 2 사분위수, 중앙값\n",
        "** 제 3 사분위수\n",
        "** 최댓값"
      ]
    },
    {
      "cell_type": "code",
      "metadata": {
        "id": "Rm3-1k0csekn"
      },
      "source": [
        "import pandas as pd\n",
        "import numpy as np\n",
        "\n",
        "import matplotlib  as mpl\n",
        "import matplotlib.pyplot as plt\n",
        "%matplotlib inline\n",
        "\n",
        "# 한글폰트 사용시 그래프에서 마이너스 폰트 깨지는 문제에 대한 대처\n",
        "mpl.rcParams['axes.unicode_minus'] = False"
      ],
      "execution_count": 77,
      "outputs": []
    },
    {
      "cell_type": "code",
      "metadata": {
        "id": "oYVKVHBbuYNM",
        "outputId": "6738796a-c611-43ec-c147-9e4560afad5b",
        "colab": {
          "base_uri": "https://localhost:8080/",
          "height": 348
        }
      },
      "source": [
        "df = pd.DataFrame(np.random.rand(10, 5), columns=['A', 'B', 'C', 'D', 'E'])\n",
        "df"
      ],
      "execution_count": 78,
      "outputs": [
        {
          "output_type": "execute_result",
          "data": {
            "text/html": [
              "<div>\n",
              "<style scoped>\n",
              "    .dataframe tbody tr th:only-of-type {\n",
              "        vertical-align: middle;\n",
              "    }\n",
              "\n",
              "    .dataframe tbody tr th {\n",
              "        vertical-align: top;\n",
              "    }\n",
              "\n",
              "    .dataframe thead th {\n",
              "        text-align: right;\n",
              "    }\n",
              "</style>\n",
              "<table border=\"1\" class=\"dataframe\">\n",
              "  <thead>\n",
              "    <tr style=\"text-align: right;\">\n",
              "      <th></th>\n",
              "      <th>A</th>\n",
              "      <th>B</th>\n",
              "      <th>C</th>\n",
              "      <th>D</th>\n",
              "      <th>E</th>\n",
              "    </tr>\n",
              "  </thead>\n",
              "  <tbody>\n",
              "    <tr>\n",
              "      <th>0</th>\n",
              "      <td>0.020895</td>\n",
              "      <td>0.158669</td>\n",
              "      <td>0.308587</td>\n",
              "      <td>0.317948</td>\n",
              "      <td>0.086589</td>\n",
              "    </tr>\n",
              "    <tr>\n",
              "      <th>1</th>\n",
              "      <td>0.953905</td>\n",
              "      <td>0.692206</td>\n",
              "      <td>0.028527</td>\n",
              "      <td>0.389004</td>\n",
              "      <td>0.860299</td>\n",
              "    </tr>\n",
              "    <tr>\n",
              "      <th>2</th>\n",
              "      <td>0.640929</td>\n",
              "      <td>0.770217</td>\n",
              "      <td>0.798298</td>\n",
              "      <td>0.121157</td>\n",
              "      <td>0.139643</td>\n",
              "    </tr>\n",
              "    <tr>\n",
              "      <th>3</th>\n",
              "      <td>0.722501</td>\n",
              "      <td>0.824838</td>\n",
              "      <td>0.081719</td>\n",
              "      <td>0.221973</td>\n",
              "      <td>0.384200</td>\n",
              "    </tr>\n",
              "    <tr>\n",
              "      <th>4</th>\n",
              "      <td>0.823639</td>\n",
              "      <td>0.485960</td>\n",
              "      <td>0.879095</td>\n",
              "      <td>0.356495</td>\n",
              "      <td>0.200007</td>\n",
              "    </tr>\n",
              "    <tr>\n",
              "      <th>5</th>\n",
              "      <td>0.500604</td>\n",
              "      <td>0.608199</td>\n",
              "      <td>0.342056</td>\n",
              "      <td>0.817054</td>\n",
              "      <td>0.635537</td>\n",
              "    </tr>\n",
              "    <tr>\n",
              "      <th>6</th>\n",
              "      <td>0.367973</td>\n",
              "      <td>0.561022</td>\n",
              "      <td>0.995963</td>\n",
              "      <td>0.318534</td>\n",
              "      <td>0.961684</td>\n",
              "    </tr>\n",
              "    <tr>\n",
              "      <th>7</th>\n",
              "      <td>0.428390</td>\n",
              "      <td>0.557104</td>\n",
              "      <td>0.553895</td>\n",
              "      <td>0.552892</td>\n",
              "      <td>0.726344</td>\n",
              "    </tr>\n",
              "    <tr>\n",
              "      <th>8</th>\n",
              "      <td>0.593175</td>\n",
              "      <td>0.949955</td>\n",
              "      <td>0.728629</td>\n",
              "      <td>0.375227</td>\n",
              "      <td>0.023258</td>\n",
              "    </tr>\n",
              "    <tr>\n",
              "      <th>9</th>\n",
              "      <td>0.811884</td>\n",
              "      <td>0.216360</td>\n",
              "      <td>0.094383</td>\n",
              "      <td>0.665427</td>\n",
              "      <td>0.765876</td>\n",
              "    </tr>\n",
              "  </tbody>\n",
              "</table>\n",
              "</div>"
            ],
            "text/plain": [
              "          A         B         C         D         E\n",
              "0  0.020895  0.158669  0.308587  0.317948  0.086589\n",
              "1  0.953905  0.692206  0.028527  0.389004  0.860299\n",
              "2  0.640929  0.770217  0.798298  0.121157  0.139643\n",
              "3  0.722501  0.824838  0.081719  0.221973  0.384200\n",
              "4  0.823639  0.485960  0.879095  0.356495  0.200007\n",
              "5  0.500604  0.608199  0.342056  0.817054  0.635537\n",
              "6  0.367973  0.561022  0.995963  0.318534  0.961684\n",
              "7  0.428390  0.557104  0.553895  0.552892  0.726344\n",
              "8  0.593175  0.949955  0.728629  0.375227  0.023258\n",
              "9  0.811884  0.216360  0.094383  0.665427  0.765876"
            ]
          },
          "metadata": {
            "tags": []
          },
          "execution_count": 78
        }
      ]
    },
    {
      "cell_type": "code",
      "metadata": {
        "id": "--W9gP4VulsB",
        "outputId": "5aca2717-594e-4883-9aff-2f8db95b7fb8",
        "colab": {
          "base_uri": "https://localhost:8080/",
          "height": 288
        }
      },
      "source": [
        "df.describe()"
      ],
      "execution_count": 80,
      "outputs": [
        {
          "output_type": "execute_result",
          "data": {
            "text/html": [
              "<div>\n",
              "<style scoped>\n",
              "    .dataframe tbody tr th:only-of-type {\n",
              "        vertical-align: middle;\n",
              "    }\n",
              "\n",
              "    .dataframe tbody tr th {\n",
              "        vertical-align: top;\n",
              "    }\n",
              "\n",
              "    .dataframe thead th {\n",
              "        text-align: right;\n",
              "    }\n",
              "</style>\n",
              "<table border=\"1\" class=\"dataframe\">\n",
              "  <thead>\n",
              "    <tr style=\"text-align: right;\">\n",
              "      <th></th>\n",
              "      <th>A</th>\n",
              "      <th>B</th>\n",
              "      <th>C</th>\n",
              "      <th>D</th>\n",
              "      <th>E</th>\n",
              "    </tr>\n",
              "  </thead>\n",
              "  <tbody>\n",
              "    <tr>\n",
              "      <th>count</th>\n",
              "      <td>10.000000</td>\n",
              "      <td>10.000000</td>\n",
              "      <td>10.000000</td>\n",
              "      <td>10.000000</td>\n",
              "      <td>10.000000</td>\n",
              "    </tr>\n",
              "    <tr>\n",
              "      <th>mean</th>\n",
              "      <td>0.586389</td>\n",
              "      <td>0.582453</td>\n",
              "      <td>0.481115</td>\n",
              "      <td>0.413571</td>\n",
              "      <td>0.478344</td>\n",
              "    </tr>\n",
              "    <tr>\n",
              "      <th>std</th>\n",
              "      <td>0.271531</td>\n",
              "      <td>0.250733</td>\n",
              "      <td>0.358025</td>\n",
              "      <td>0.208530</td>\n",
              "      <td>0.351192</td>\n",
              "    </tr>\n",
              "    <tr>\n",
              "      <th>min</th>\n",
              "      <td>0.020895</td>\n",
              "      <td>0.158669</td>\n",
              "      <td>0.028527</td>\n",
              "      <td>0.121157</td>\n",
              "      <td>0.023258</td>\n",
              "    </tr>\n",
              "    <tr>\n",
              "      <th>25%</th>\n",
              "      <td>0.446443</td>\n",
              "      <td>0.503746</td>\n",
              "      <td>0.147934</td>\n",
              "      <td>0.318094</td>\n",
              "      <td>0.154734</td>\n",
              "    </tr>\n",
              "    <tr>\n",
              "      <th>50%</th>\n",
              "      <td>0.617052</td>\n",
              "      <td>0.584610</td>\n",
              "      <td>0.447975</td>\n",
              "      <td>0.365861</td>\n",
              "      <td>0.509869</td>\n",
              "    </tr>\n",
              "    <tr>\n",
              "      <th>75%</th>\n",
              "      <td>0.789539</td>\n",
              "      <td>0.750714</td>\n",
              "      <td>0.780881</td>\n",
              "      <td>0.511920</td>\n",
              "      <td>0.755993</td>\n",
              "    </tr>\n",
              "    <tr>\n",
              "      <th>max</th>\n",
              "      <td>0.953905</td>\n",
              "      <td>0.949955</td>\n",
              "      <td>0.995963</td>\n",
              "      <td>0.817054</td>\n",
              "      <td>0.961684</td>\n",
              "    </tr>\n",
              "  </tbody>\n",
              "</table>\n",
              "</div>"
            ],
            "text/plain": [
              "               A          B          C          D          E\n",
              "count  10.000000  10.000000  10.000000  10.000000  10.000000\n",
              "mean    0.586389   0.582453   0.481115   0.413571   0.478344\n",
              "std     0.271531   0.250733   0.358025   0.208530   0.351192\n",
              "min     0.020895   0.158669   0.028527   0.121157   0.023258\n",
              "25%     0.446443   0.503746   0.147934   0.318094   0.154734\n",
              "50%     0.617052   0.584610   0.447975   0.365861   0.509869\n",
              "75%     0.789539   0.750714   0.780881   0.511920   0.755993\n",
              "max     0.953905   0.949955   0.995963   0.817054   0.961684"
            ]
          },
          "metadata": {
            "tags": []
          },
          "execution_count": 80
        }
      ]
    },
    {
      "cell_type": "code",
      "metadata": {
        "id": "_0wNwZV0ufFN",
        "outputId": "f188e7d5-db4c-4289-fbc0-c2d5c3e18b29",
        "colab": {
          "base_uri": "https://localhost:8080/",
          "height": 283
        }
      },
      "source": [
        "df.plot.box()"
      ],
      "execution_count": 81,
      "outputs": [
        {
          "output_type": "execute_result",
          "data": {
            "text/plain": [
              "<matplotlib.axes._subplots.AxesSubplot at 0x7fe09f386c88>"
            ]
          },
          "metadata": {
            "tags": []
          },
          "execution_count": 81
        },
        {
          "output_type": "display_data",
          "data": {
            "image/png": "[encoded data removed]",
            "text/plain": [
              "<Figure size 432x288 with 1 Axes>"
            ]
          },
          "metadata": {
            "tags": [],
            "needs_background": "light"
          }
        }
      ]
    },
    {
      "cell_type": "code",
      "metadata": {
        "id": "2-z-knbbujH9",
        "outputId": "8f65b464-b838-4474-f4f8-745df34a6682",
        "colab": {
          "base_uri": "https://localhost:8080/",
          "height": 90
        }
      },
      "source": [
        "color = {'boxes': 'DarkGreen', 'whiskers': 'DarkOrange', 'medians': 'DarkBlue', 'caps': 'Gray'}\n",
        "color"
      ],
      "execution_count": 82,
      "outputs": [
        {
          "output_type": "execute_result",
          "data": {
            "text/plain": [
              "{'boxes': 'DarkGreen',\n",
              " 'caps': 'Gray',\n",
              " 'medians': 'DarkBlue',\n",
              " 'whiskers': 'DarkOrange'}"
            ]
          },
          "metadata": {
            "tags": []
          },
          "execution_count": 82
        }
      ]
    },
    {
      "cell_type": "code",
      "metadata": {
        "id": "AD_2Azsmu81i",
        "outputId": "3d7a90bd-b633-4979-ab0d-3c88edd27979",
        "colab": {
          "base_uri": "https://localhost:8080/",
          "height": 283
        }
      },
      "source": [
        "df.plot.box(color = color, sym = 'r+')"
      ],
      "execution_count": 83,
      "outputs": [
        {
          "output_type": "execute_result",
          "data": {
            "text/plain": [
              "<matplotlib.axes._subplots.AxesSubplot at 0x7fe09f37feb8>"
            ]
          },
          "metadata": {
            "tags": []
          },
          "execution_count": 83
        },
        {
          "output_type": "display_data",
          "data": {
            "image/png": "[encoded data removed]",
            "text/plain": [
              "<Figure size 432x288 with 1 Axes>"
            ]
          },
          "metadata": {
            "tags": [],
            "needs_background": "light"
          }
        }
      ]
    },
    {
      "cell_type": "code",
      "metadata": {
        "id": "IdS82IV3vBuC",
        "outputId": "68ce870a-422e-43f4-f0e5-b3a4ba624c3f",
        "colab": {
          "base_uri": "https://localhost:8080/",
          "height": 283
        }
      },
      "source": [
        "df.plot.box(vert=False, positions=[1, 4, 5, 6, 8])"
      ],
      "execution_count": 84,
      "outputs": [
        {
          "output_type": "execute_result",
          "data": {
            "text/plain": [
              "<matplotlib.axes._subplots.AxesSubplot at 0x7fe09f1c28d0>"
            ]
          },
          "metadata": {
            "tags": []
          },
          "execution_count": 84
        },
        {
          "output_type": "display_data",
          "data": {
            "image/png": "[encoded data removed]",
            "text/plain": [
              "<Figure size 432x288 with 1 Axes>"
            ]
          },
          "metadata": {
            "tags": [],
            "needs_background": "light"
          }
        }
      ]
    },
    {
      "cell_type": "code",
      "metadata": {
        "id": "QP7rNkrjvQrs"
      },
      "source": [
        "df = pd.DataFrame(np.random.rand(10, 5))"
      ],
      "execution_count": 85,
      "outputs": []
    },
    {
      "cell_type": "code",
      "metadata": {
        "id": "K1S6r-njvWOD",
        "outputId": "b359c528-99be-4109-9160-7fb8a984ff63",
        "colab": {
          "base_uri": "https://localhost:8080/",
          "height": 283
        }
      },
      "source": [
        "bp = df.boxplot()\n",
        "bp"
      ],
      "execution_count": 86,
      "outputs": [
        {
          "output_type": "execute_result",
          "data": {
            "text/plain": [
              "<matplotlib.axes._subplots.AxesSubplot at 0x7fe09f0fdbe0>"
            ]
          },
          "metadata": {
            "tags": []
          },
          "execution_count": 86
        },
        {
          "output_type": "display_data",
          "data": {
            "image/png": "[encoded data removed]",
            "text/plain": [
              "<Figure size 432x288 with 1 Axes>"
            ]
          },
          "metadata": {
            "tags": [],
            "needs_background": "light"
          }
        }
      ]
    },
    {
      "cell_type": "code",
      "metadata": {
        "id": "5nY2iHdJvYod",
        "outputId": "3bc55a22-6de2-487c-9f37-3c413b975fed",
        "colab": {
          "base_uri": "https://localhost:8080/",
          "height": 348
        }
      },
      "source": [
        "df = pd.DataFrame(np.random.rand(10, 2), columns=['Col1', 'Col2'])\n",
        "df"
      ],
      "execution_count": 87,
      "outputs": [
        {
          "output_type": "execute_result",
          "data": {
            "text/html": [
              "<div>\n",
              "<style scoped>\n",
              "    .dataframe tbody tr th:only-of-type {\n",
              "        vertical-align: middle;\n",
              "    }\n",
              "\n",
              "    .dataframe tbody tr th {\n",
              "        vertical-align: top;\n",
              "    }\n",
              "\n",
              "    .dataframe thead th {\n",
              "        text-align: right;\n",
              "    }\n",
              "</style>\n",
              "<table border=\"1\" class=\"dataframe\">\n",
              "  <thead>\n",
              "    <tr style=\"text-align: right;\">\n",
              "      <th></th>\n",
              "      <th>Col1</th>\n",
              "      <th>Col2</th>\n",
              "    </tr>\n",
              "  </thead>\n",
              "  <tbody>\n",
              "    <tr>\n",
              "      <th>0</th>\n",
              "      <td>0.478581</td>\n",
              "      <td>0.339801</td>\n",
              "    </tr>\n",
              "    <tr>\n",
              "      <th>1</th>\n",
              "      <td>0.490844</td>\n",
              "      <td>0.097915</td>\n",
              "    </tr>\n",
              "    <tr>\n",
              "      <th>2</th>\n",
              "      <td>0.790725</td>\n",
              "      <td>0.056707</td>\n",
              "    </tr>\n",
              "    <tr>\n",
              "      <th>3</th>\n",
              "      <td>0.439083</td>\n",
              "      <td>0.193755</td>\n",
              "    </tr>\n",
              "    <tr>\n",
              "      <th>4</th>\n",
              "      <td>0.340878</td>\n",
              "      <td>0.322369</td>\n",
              "    </tr>\n",
              "    <tr>\n",
              "      <th>5</th>\n",
              "      <td>0.621721</td>\n",
              "      <td>0.102543</td>\n",
              "    </tr>\n",
              "    <tr>\n",
              "      <th>6</th>\n",
              "      <td>0.857147</td>\n",
              "      <td>0.159989</td>\n",
              "    </tr>\n",
              "    <tr>\n",
              "      <th>7</th>\n",
              "      <td>0.941910</td>\n",
              "      <td>0.105512</td>\n",
              "    </tr>\n",
              "    <tr>\n",
              "      <th>8</th>\n",
              "      <td>0.566398</td>\n",
              "      <td>0.147125</td>\n",
              "    </tr>\n",
              "    <tr>\n",
              "      <th>9</th>\n",
              "      <td>0.693466</td>\n",
              "      <td>0.590207</td>\n",
              "    </tr>\n",
              "  </tbody>\n",
              "</table>\n",
              "</div>"
            ],
            "text/plain": [
              "       Col1      Col2\n",
              "0  0.478581  0.339801\n",
              "1  0.490844  0.097915\n",
              "2  0.790725  0.056707\n",
              "3  0.439083  0.193755\n",
              "4  0.340878  0.322369\n",
              "5  0.621721  0.102543\n",
              "6  0.857147  0.159989\n",
              "7  0.941910  0.105512\n",
              "8  0.566398  0.147125\n",
              "9  0.693466  0.590207"
            ]
          },
          "metadata": {
            "tags": []
          },
          "execution_count": 87
        }
      ]
    },
    {
      "cell_type": "code",
      "metadata": {
        "id": "rZLe75unvm0r",
        "outputId": "3a27fd48-5f06-4b19-987c-efb0370e8255",
        "colab": {
          "base_uri": "https://localhost:8080/",
          "height": 348
        }
      },
      "source": [
        "df['X'] = pd.Series(['A', 'A', 'A', 'A', 'A', 'B', 'B', 'B', 'B', 'B'])\n",
        "df"
      ],
      "execution_count": 88,
      "outputs": [
        {
          "output_type": "execute_result",
          "data": {
            "text/html": [
              "<div>\n",
              "<style scoped>\n",
              "    .dataframe tbody tr th:only-of-type {\n",
              "        vertical-align: middle;\n",
              "    }\n",
              "\n",
              "    .dataframe tbody tr th {\n",
              "        vertical-align: top;\n",
              "    }\n",
              "\n",
              "    .dataframe thead th {\n",
              "        text-align: right;\n",
              "    }\n",
              "</style>\n",
              "<table border=\"1\" class=\"dataframe\">\n",
              "  <thead>\n",
              "    <tr style=\"text-align: right;\">\n",
              "      <th></th>\n",
              "      <th>Col1</th>\n",
              "      <th>Col2</th>\n",
              "      <th>X</th>\n",
              "    </tr>\n",
              "  </thead>\n",
              "  <tbody>\n",
              "    <tr>\n",
              "      <th>0</th>\n",
              "      <td>0.478581</td>\n",
              "      <td>0.339801</td>\n",
              "      <td>A</td>\n",
              "    </tr>\n",
              "    <tr>\n",
              "      <th>1</th>\n",
              "      <td>0.490844</td>\n",
              "      <td>0.097915</td>\n",
              "      <td>A</td>\n",
              "    </tr>\n",
              "    <tr>\n",
              "      <th>2</th>\n",
              "      <td>0.790725</td>\n",
              "      <td>0.056707</td>\n",
              "      <td>A</td>\n",
              "    </tr>\n",
              "    <tr>\n",
              "      <th>3</th>\n",
              "      <td>0.439083</td>\n",
              "      <td>0.193755</td>\n",
              "      <td>A</td>\n",
              "    </tr>\n",
              "    <tr>\n",
              "      <th>4</th>\n",
              "      <td>0.340878</td>\n",
              "      <td>0.322369</td>\n",
              "      <td>A</td>\n",
              "    </tr>\n",
              "    <tr>\n",
              "      <th>5</th>\n",
              "      <td>0.621721</td>\n",
              "      <td>0.102543</td>\n",
              "      <td>B</td>\n",
              "    </tr>\n",
              "    <tr>\n",
              "      <th>6</th>\n",
              "      <td>0.857147</td>\n",
              "      <td>0.159989</td>\n",
              "      <td>B</td>\n",
              "    </tr>\n",
              "    <tr>\n",
              "      <th>7</th>\n",
              "      <td>0.941910</td>\n",
              "      <td>0.105512</td>\n",
              "      <td>B</td>\n",
              "    </tr>\n",
              "    <tr>\n",
              "      <th>8</th>\n",
              "      <td>0.566398</td>\n",
              "      <td>0.147125</td>\n",
              "      <td>B</td>\n",
              "    </tr>\n",
              "    <tr>\n",
              "      <th>9</th>\n",
              "      <td>0.693466</td>\n",
              "      <td>0.590207</td>\n",
              "      <td>B</td>\n",
              "    </tr>\n",
              "  </tbody>\n",
              "</table>\n",
              "</div>"
            ],
            "text/plain": [
              "       Col1      Col2  X\n",
              "0  0.478581  0.339801  A\n",
              "1  0.490844  0.097915  A\n",
              "2  0.790725  0.056707  A\n",
              "3  0.439083  0.193755  A\n",
              "4  0.340878  0.322369  A\n",
              "5  0.621721  0.102543  B\n",
              "6  0.857147  0.159989  B\n",
              "7  0.941910  0.105512  B\n",
              "8  0.566398  0.147125  B\n",
              "9  0.693466  0.590207  B"
            ]
          },
          "metadata": {
            "tags": []
          },
          "execution_count": 88
        }
      ]
    },
    {
      "cell_type": "code",
      "metadata": {
        "id": "f1e73S8Vvpvz",
        "outputId": "3ccb54f4-d584-4abc-d241-19cbdeb20f44",
        "colab": {
          "base_uri": "https://localhost:8080/",
          "height": 301
        }
      },
      "source": [
        "bp = df.boxplot(by='X')"
      ],
      "execution_count": 89,
      "outputs": [
        {
          "output_type": "display_data",
          "data": {
            "image/png": "[encoded data removed]",
            "text/plain": [
              "<Figure size 432x288 with 2 Axes>"
            ]
          },
          "metadata": {
            "tags": [],
            "needs_background": "light"
          }
        }
      ]
    },
    {
      "cell_type": "code",
      "metadata": {
        "id": "TSZK51cuvsX9",
        "outputId": "745d9c91-96d3-4dc9-beb5-5ca8c6eaff1f",
        "colab": {
          "base_uri": "https://localhost:8080/",
          "height": 265
        }
      },
      "source": [
        "bp = df.boxplot()"
      ],
      "execution_count": 90,
      "outputs": [
        {
          "output_type": "display_data",
          "data": {
            "image/png": "[encoded data removed]",
            "text/plain": [
              "<Figure size 432x288 with 1 Axes>"
            ]
          },
          "metadata": {
            "tags": [],
            "needs_background": "light"
          }
        }
      ]
    },
    {
      "cell_type": "code",
      "metadata": {
        "id": "sYf9hx4Vvx3i"
      },
      "source": [
        "np.random.seed(1234)"
      ],
      "execution_count": 94,
      "outputs": []
    },
    {
      "cell_type": "code",
      "metadata": {
        "id": "DboPhbyXv8gB",
        "outputId": "a821cf6a-e397-4233-d6d2-1fb775d794d2",
        "colab": {
          "base_uri": "https://localhost:8080/",
          "height": 301
        }
      },
      "source": [
        "df_box = pd.DataFrame(np.random.randn(50, 2))\n",
        "df_box['g'] = np.random.choice(['A', 'B'], size=50)\n",
        "df_box.loc[df_box['g'] == 'B', 1] += 3\n",
        "bp = df_box.boxplot(by='g')"
      ],
      "execution_count": 96,
      "outputs": [
        {
          "output_type": "display_data",
          "data": {
            "image/png": "[encoded data removed]",
            "text/plain": [
              "<Figure size 432x288 with 2 Axes>"
            ]
          },
          "metadata": {
            "tags": [],
            "needs_background": "light"
          }
        }
      ]
    },
    {
      "cell_type": "code",
      "metadata": {
        "id": "TYg9W11bwK9Q",
        "outputId": "d7c5c51e-bdf9-4d1f-e8ec-1bf532dbda75",
        "colab": {
          "base_uri": "https://localhost:8080/",
          "height": 280
        }
      },
      "source": [
        "bp = df_box.groupby('g').boxplot()"
      ],
      "execution_count": 97,
      "outputs": [
        {
          "output_type": "display_data",
          "data": {
            "image/png": "[encoded data removed]",
            "text/plain": [
              "<Figure size 432x288 with 2 Axes>"
            ]
          },
          "metadata": {
            "tags": [],
            "needs_background": "light"
          }
        }
      ]
    },
    {
      "cell_type": "code",
      "metadata": {
        "id": "DxV6xqFUwW6R"
      },
      "source": [
        ""
      ],
      "execution_count": null,
      "outputs": []
    }
  ]
}